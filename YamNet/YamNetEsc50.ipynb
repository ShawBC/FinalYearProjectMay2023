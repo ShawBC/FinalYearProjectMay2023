{
 "cells": [
  {
   "cell_type": "markdown",
   "metadata": {
    "id": "Cb4espuLKJiA"
   },
   "source": [
    "##### Copyright 2021 The TensorFlow Authors."
   ]
  },
  {
   "cell_type": "code",
   "execution_count": 11,
   "metadata": {
    "cellView": "form",
    "execution": {
     "iopub.execute_input": "2022-12-14T04:17:38.316490Z",
     "iopub.status.busy": "2022-12-14T04:17:38.316059Z",
     "iopub.status.idle": "2022-12-14T04:17:38.320074Z",
     "shell.execute_reply": "2022-12-14T04:17:38.319521Z"
    },
    "id": "DjZQV2njKJ3U"
   },
   "outputs": [],
   "source": [
    "#@title Licensed under the Apache License, Version 2.0 (the \"License\");\n",
    "# you may not use this file except in compliance with the License.\n",
    "# You may obtain a copy of the License at\n",
    "#\n",
    "# https://www.apache.org/licenses/LICENSE-2.0\n",
    "#\n",
    "# Unless required by applicable law or agreed to in writing, software\n",
    "# distributed under the License is distributed on an \"AS IS\" BASIS,\n",
    "# WITHOUT WARRANTIES OR CONDITIONS OF ANY KIND, either express or implied.\n",
    "# See the License for the specific language governing permissions and\n",
    "# limitations under the License."
   ]
  },
  {
   "cell_type": "markdown",
   "metadata": {
    "id": "mTL0TERThT6z"
   },
   "source": [
    "<table class=\"tfo-notebook-buttons\" align=\"left\">\n",
    "  <td>\n",
    "    <a target=\"_blank\" href=\"https://www.tensorflow.org/tutorials/audio/transfer_learning_audio\"><img src=\"https://www.tensorflow.org/images/tf_logo_32px.png\" />View on TensorFlow.org</a>\n",
    "  </td>\n",
    "  <td>\n",
    "    <a target=\"_blank\" href=\"https://colab.research.google.com/github/tensorflow/docs/blob/master/site/en/tutorials/audio/transfer_learning_audio.ipynb\"><img src=\"https://www.tensorflow.org/images/colab_logo_32px.png\" />Run in Google Colab</a>\n",
    "  </td>\n",
    "  <td>\n",
    "    <a target=\"_blank\" href=\"https://github.com/tensorflow/docs/blob/master/site/en/tutorials/audio/transfer_learning_audio.ipynb\"><img src=\"https://www.tensorflow.org/images/GitHub-Mark-32px.png\" />View on GitHub</a>\n",
    "  </td>\n",
    "  <td>\n",
    "    <a href=\"https://storage.googleapis.com/tensorflow_docs/docs/site/en/tutorials/audio/transfer_learning_audio.ipynb\"><img src=\"https://www.tensorflow.org/images/download_logo_32px.png\" />Download notebook</a>\n",
    "  </td>\n",
    "  <td>\n",
    "    <a href=\"https://tfhub.dev/google/yamnet/1\"><img src=\"https://www.tensorflow.org/images/hub_logo_32px.png\" />See TF Hub model</a>\n",
    "  </td>\n",
    "</table>"
   ]
  },
  {
   "cell_type": "markdown",
   "metadata": {
    "id": "K2madPFAGHb3"
   },
   "source": [
    "# Transfer learning with YAMNet for environmental sound classification\n",
    "\n",
    "[YAMNet](https://tfhub.dev/google/yamnet/1) is a pre-trained deep neural network that can predict audio events from [521 classes](https://github.com/tensorflow/models/blob/master/research/audioset/yamnet/yamnet_class_map.csv), such as laughter, barking, or a siren. \n",
    "\n",
    " In this tutorial you will learn how to:\n",
    "\n",
    "- Load and use the YAMNet model for inference.\n",
    "- Build a new model using the YAMNet embeddings to classify cat and dog sounds.\n",
    "- Evaluate and export your model.\n"
   ]
  },
  {
   "cell_type": "markdown",
   "metadata": {
    "id": "5Mdp2TpBh96Y"
   },
   "source": [
    "## Import TensorFlow and other libraries\n"
   ]
  },
  {
   "cell_type": "markdown",
   "metadata": {
    "id": "zCcKYqu_hvKe"
   },
   "source": [
    "Start by installing [TensorFlow I/O](https://www.tensorflow.org/io), which will make it easier for you to load audio files off disk."
   ]
  },
  {
   "cell_type": "code",
   "execution_count": 12,
   "metadata": {
    "execution": {
     "iopub.execute_input": "2022-12-14T04:17:38.323514Z",
     "iopub.status.busy": "2022-12-14T04:17:38.323165Z",
     "iopub.status.idle": "2022-12-14T04:17:42.780794Z",
     "shell.execute_reply": "2022-12-14T04:17:42.779672Z"
    },
    "id": "urBpRWDHTHHU"
   },
   "outputs": [],
   "source": [
    "!pip install -q \"tensorflow==2.11.*\"\n",
    "# tensorflow_io 0.28 is compatible with TensorFlow 2.11\n",
    "!pip install -q \"tensorflow_io==0.28.*\""
   ]
  },
  {
   "cell_type": "code",
   "execution_count": 13,
   "metadata": {
    "execution": {
     "iopub.execute_input": "2022-12-14T04:17:42.785412Z",
     "iopub.status.busy": "2022-12-14T04:17:42.784883Z",
     "iopub.status.idle": "2022-12-14T04:17:45.185038Z",
     "shell.execute_reply": "2022-12-14T04:17:45.184303Z"
    },
    "id": "7l3nqdWVF-kC"
   },
   "outputs": [],
   "source": [
    "import os\n",
    "\n",
    "from IPython import display\n",
    "import matplotlib.pyplot as plt\n",
    "import numpy as np\n",
    "import pandas as pd\n",
    "\n",
    "import tensorflow as tf\n",
    "import tensorflow_hub as hub\n",
    "import tensorflow_io as tfio"
   ]
  },
  {
   "cell_type": "markdown",
   "metadata": {
    "id": "v9ZhybCnt_bM"
   },
   "source": [
    "## About YAMNet\n",
    "\n",
    "[YAMNet](https://github.com/tensorflow/models/tree/master/research/audioset/yamnet) is a pre-trained neural network that employs the [MobileNetV1](https://arxiv.org/abs/1704.04861) depthwise-separable convolution architecture. It can use an audio waveform as input and make independent predictions for each of the 521 audio events from the [AudioSet](http://g.co/audioset) corpus.\n",
    "\n",
    "Internally, the model extracts \"frames\" from the audio signal and processes batches of these frames. This version of the model uses frames that are 0.96 second long and extracts one frame every 0.48 seconds .\n",
    "\n",
    "The model accepts a 1-D float32 Tensor or NumPy array containing a waveform of arbitrary length, represented as single-channel (mono) 16 kHz samples in the range `[-1.0, +1.0]`. This tutorial contains code to help you convert WAV files into the supported format.\n",
    "\n",
    "The model returns 3 outputs, including the class scores, embeddings (which you will use for transfer learning), and the log mel [spectrogram](https://www.tensorflow.org/tutorials/audio/simple_audio#spectrogram). You can find more details [here](https://tfhub.dev/google/yamnet/1).\n",
    "\n",
    "One specific use of YAMNet is as a high-level feature extractor - the 1,024-dimensional embedding output. You will use the base (YAMNet) model's input features and feed them into your shallower model consisting of one hidden `tf.keras.layers.Dense` layer. Then, you will train the network on a small amount of data for audio classification _without_ requiring a lot of labeled data and training end-to-end. (This is similar to [transfer learning for image classification with TensorFlow Hub](https://www.tensorflow.org/tutorials/images/transfer_learning_with_hub) for more information.)\n",
    "\n",
    "First, you will test the model and see the results of classifying audio. You will then construct the data pre-processing pipeline.\n",
    "\n",
    "### Loading YAMNet from TensorFlow Hub\n",
    "\n",
    "You are going to use a pre-trained YAMNet from [Tensorflow Hub](https://tfhub.dev/) to extract the embeddings from the sound files.\n",
    "\n",
    "Loading a model from TensorFlow Hub is straightforward: choose the model, copy its URL, and use the `load` function.\n",
    "\n",
    "Note: to read the documentation of the model, use the model URL in your browser."
   ]
  },
  {
   "cell_type": "code",
   "execution_count": 14,
   "metadata": {
    "execution": {
     "iopub.execute_input": "2022-12-14T04:17:45.189798Z",
     "iopub.status.busy": "2022-12-14T04:17:45.188845Z",
     "iopub.status.idle": "2022-12-14T04:17:52.629198Z",
     "shell.execute_reply": "2022-12-14T04:17:52.628173Z"
    },
    "id": "06CWkBV5v3gr"
   },
   "outputs": [],
   "source": [
    "yamnet_model_handle = 'https://tfhub.dev/google/yamnet/1'\n",
    "yamnet_model = hub.load(yamnet_model_handle)"
   ]
  },
  {
   "cell_type": "markdown",
   "metadata": {
    "id": "GmrPJ0GHw9rr"
   },
   "source": [
    "With the model loaded, you can follow the [YAMNet basic usage tutorial](https://www.tensorflow.org/hub/tutorials/yamnet) and download a sample WAV file to run the inference.\n"
   ]
  },
  {
   "cell_type": "markdown",
   "metadata": {
    "id": "mBm9y9iV2U_-"
   },
   "source": [
    "You will need a function to load audio files, which will also be used later when working with the training data. (Learn more about reading audio files and their labels in [Simple audio recognition](https://www.tensorflow.org/tutorials/audio/simple_audio#reading_audio_files_and_their_labels).\n",
    "\n",
    "Note: The returned `wav_data` from `load_wav_16k_mono` is already normalized to values in the `[-1.0, 1.0]` range (for more information, go to [YAMNet's documentation on TF Hub](https://tfhub.dev/google/yamnet/1))."
   ]
  },
  {
   "cell_type": "code",
   "execution_count": 20,
   "metadata": {
    "execution": {
     "iopub.execute_input": "2022-12-14T04:17:52.878905Z",
     "iopub.status.busy": "2022-12-14T04:17:52.878337Z",
     "iopub.status.idle": "2022-12-14T04:17:52.883493Z",
     "shell.execute_reply": "2022-12-14T04:17:52.882840Z"
    },
    "id": "Xwc9Wrdg2EtY"
   },
   "outputs": [],
   "source": [
    "# Utility functions for loading audio files and making sure the sample rate is correct.\n",
    "\n",
    "@tf.function\n",
    "def load_wav_16k_mono(filename):\n",
    "    \"\"\" Load a WAV file, convert it to a float tensor, resample to 16 kHz single-channel audio. \"\"\"\n",
    "    file_contents = tf.io.read_file(filename)\n",
    "    wav, sample_rate = tf.audio.decode_wav(\n",
    "          file_contents,\n",
    "          desired_channels=1)\n",
    "    wav = tf.squeeze(wav, axis=-1)\n",
    "    sample_rate = tf.cast(sample_rate, dtype=tf.int64)\n",
    "    wav = tfio.audio.resample(wav, rate_in=sample_rate, rate_out=16000)\n",
    "    return wav"
   ]
  },
  {
   "cell_type": "markdown",
   "metadata": {
    "id": "6z6rqlEz20YB"
   },
   "source": [
    "### Load the class mapping\n",
    "\n",
    "It's important to load the class names that YAMNet is able to recognize. The mapping file is present at `yamnet_model.class_map_path()` in the CSV format."
   ]
  },
  {
   "cell_type": "code",
   "execution_count": 24,
   "metadata": {
    "execution": {
     "iopub.execute_input": "2022-12-14T04:17:53.766003Z",
     "iopub.status.busy": "2022-12-14T04:17:53.765732Z",
     "iopub.status.idle": "2022-12-14T04:17:53.783796Z",
     "shell.execute_reply": "2022-12-14T04:17:53.783192Z"
    },
    "id": "6Gyj23e_3Mgr",
    "scrolled": true
   },
   "outputs": [
    {
     "name": "stdout",
     "output_type": "stream",
     "text": [
      "Speech\n",
      "Child speech, kid speaking\n",
      "Conversation\n",
      "Narration, monologue\n",
      "Babbling\n",
      "Speech synthesizer\n",
      "Shout\n",
      "Bellow\n",
      "Whoop\n",
      "Yell\n",
      "Children shouting\n",
      "Screaming\n",
      "Whispering\n",
      "Laughter\n",
      "Baby laughter\n",
      "Giggle\n",
      "Snicker\n",
      "Belly laugh\n",
      "Chuckle, chortle\n",
      "Crying, sobbing\n",
      "Baby cry, infant cry\n",
      "Whimper\n",
      "Wail, moan\n",
      "Sigh\n",
      "Singing\n",
      "Choir\n",
      "Yodeling\n",
      "Chant\n",
      "Mantra\n",
      "Child singing\n",
      "Synthetic singing\n",
      "Rapping\n",
      "Humming\n",
      "Groan\n",
      "Grunt\n",
      "Whistling\n",
      "Breathing\n",
      "Wheeze\n",
      "Snoring\n",
      "Gasp\n",
      "Pant\n",
      "Snort\n",
      "Cough\n",
      "Throat clearing\n",
      "Sneeze\n",
      "Sniff\n",
      "Run\n",
      "Shuffle\n",
      "Walk, footsteps\n",
      "Chewing, mastication\n",
      "Biting\n",
      "Gargling\n",
      "Stomach rumble\n",
      "Burping, eructation\n",
      "Hiccup\n",
      "Fart\n",
      "Hands\n",
      "Finger snapping\n",
      "Clapping\n",
      "Heart sounds, heartbeat\n",
      "Heart murmur\n",
      "Cheering\n",
      "Applause\n",
      "Chatter\n",
      "Crowd\n",
      "Hubbub, speech noise, speech babble\n",
      "Children playing\n",
      "Animal\n",
      "Domestic animals, pets\n",
      "Dog\n",
      "Bark\n",
      "Yip\n",
      "Howl\n",
      "Bow-wow\n",
      "Growling\n",
      "Whimper (dog)\n",
      "Cat\n",
      "Purr\n",
      "Meow\n",
      "Hiss\n",
      "Caterwaul\n",
      "Livestock, farm animals, working animals\n",
      "Horse\n",
      "Clip-clop\n",
      "Neigh, whinny\n",
      "Cattle, bovinae\n",
      "Moo\n",
      "Cowbell\n",
      "Pig\n",
      "Oink\n",
      "Goat\n",
      "Bleat\n",
      "Sheep\n",
      "Fowl\n",
      "Chicken, rooster\n",
      "Cluck\n",
      "Crowing, cock-a-doodle-doo\n",
      "Turkey\n",
      "Gobble\n",
      "Duck\n",
      "Quack\n",
      "Goose\n",
      "Honk\n",
      "Wild animals\n",
      "Roaring cats (lions, tigers)\n",
      "Roar\n",
      "Bird\n",
      "Bird vocalization, bird call, bird song\n",
      "Chirp, tweet\n",
      "Squawk\n",
      "Pigeon, dove\n",
      "Coo\n",
      "Crow\n",
      "Caw\n",
      "Owl\n",
      "Hoot\n",
      "Bird flight, flapping wings\n",
      "Canidae, dogs, wolves\n",
      "Rodents, rats, mice\n",
      "Mouse\n",
      "Patter\n",
      "Insect\n",
      "Cricket\n",
      "Mosquito\n",
      "Fly, housefly\n",
      "Buzz\n",
      "Bee, wasp, etc.\n",
      "Frog\n",
      "Croak\n",
      "Snake\n",
      "Rattle\n",
      "Whale vocalization\n",
      "Music\n",
      "Musical instrument\n",
      "Plucked string instrument\n",
      "Guitar\n",
      "Electric guitar\n",
      "Bass guitar\n",
      "Acoustic guitar\n",
      "Steel guitar, slide guitar\n",
      "Tapping (guitar technique)\n",
      "Strum\n",
      "Banjo\n",
      "Sitar\n",
      "Mandolin\n",
      "Zither\n",
      "Ukulele\n",
      "Keyboard (musical)\n",
      "Piano\n",
      "Electric piano\n",
      "Organ\n",
      "Electronic organ\n",
      "Hammond organ\n",
      "Synthesizer\n",
      "Sampler\n",
      "Harpsichord\n",
      "Percussion\n",
      "Drum kit\n",
      "Drum machine\n",
      "Drum\n",
      "Snare drum\n",
      "Rimshot\n",
      "Drum roll\n",
      "Bass drum\n",
      "Timpani\n",
      "Tabla\n",
      "Cymbal\n",
      "Hi-hat\n",
      "Wood block\n",
      "Tambourine\n",
      "Rattle (instrument)\n",
      "Maraca\n",
      "Gong\n",
      "Tubular bells\n",
      "Mallet percussion\n",
      "Marimba, xylophone\n",
      "Glockenspiel\n",
      "Vibraphone\n",
      "Steelpan\n",
      "Orchestra\n",
      "Brass instrument\n",
      "French horn\n",
      "Trumpet\n",
      "Trombone\n",
      "Bowed string instrument\n",
      "String section\n",
      "Violin, fiddle\n",
      "Pizzicato\n",
      "Cello\n",
      "Double bass\n",
      "Wind instrument, woodwind instrument\n",
      "Flute\n",
      "Saxophone\n",
      "Clarinet\n",
      "Harp\n",
      "Bell\n",
      "Church bell\n",
      "Jingle bell\n",
      "Bicycle bell\n",
      "Tuning fork\n",
      "...\n"
     ]
    }
   ],
   "source": [
    "class_map_path = yamnet_model.class_map_path().numpy().decode('utf-8')\n",
    "class_names =list(pd.read_csv(class_map_path)['display_name'])\n",
    "\n",
    "for name in class_names[:200]:\n",
    "  print(name)\n",
    "print('...')"
   ]
  },
  {
   "cell_type": "markdown",
   "metadata": {
    "id": "5xbycDnT40u0"
   },
   "source": [
    "### Run inference\n",
    "\n",
    "YAMNet provides frame-level class-scores (i.e., 521 scores for every frame). In order to determine clip-level predictions, the scores can be aggregated per-class across frames (e.g., using mean or max aggregation). This is done below by `scores_np.mean(axis=0)`. Finally, to find the top-scored class at the clip-level, you take the maximum of the 521 aggregated scores.\n"
   ]
  },
  {
   "cell_type": "markdown",
   "metadata": {
    "id": "YBaLNg5H5IWa"
   },
   "source": [
    "Note: The model correctly inferred an animal sound. Your goal in this tutorial is to increase the model's accuracy for specific classes. Also, notice that the model generated 13 embeddings, 1 per frame."
   ]
  },
  {
   "cell_type": "markdown",
   "metadata": {
    "id": "fmthELBg1A2-"
   },
   "source": [
    "## ESC-50 dataset\n",
    "\n",
    "The [ESC-50 dataset](https://github.com/karolpiczak/ESC-50#repository-content) ([Piczak, 2015](https://www.karolpiczak.com/papers/Piczak2015-ESC-Dataset.pdf)) is a labeled collection of 2,000 five-second long environmental audio recordings. The dataset consists of 50 classes, with 40 examples per class.\n",
    "\n",
    "Download the dataset and extract it. \n"
   ]
  },
  {
   "cell_type": "code",
   "execution_count": 25,
   "metadata": {
    "execution": {
     "iopub.execute_input": "2022-12-14T04:17:55.317791Z",
     "iopub.status.busy": "2022-12-14T04:17:55.317473Z",
     "iopub.status.idle": "2022-12-14T04:18:51.761420Z",
     "shell.execute_reply": "2022-12-14T04:18:51.760662Z"
    },
    "id": "MWobqK8JmZOU"
   },
   "outputs": [
    {
     "name": "stdout",
     "output_type": "stream",
     "text": [
      "Downloading data from https://github.com/karoldvl/ESC-50/archive/master.zip\n",
      "   8192/Unknown - 0s 0s/step"
     ]
    }
   ],
   "source": [
    "_ = tf.keras.utils.get_file('esc-50.zip',\n",
    "                        'https://github.com/karoldvl/ESC-50/archive/master.zip',\n",
    "                        cache_dir='./',\n",
    "                        cache_subdir='datasets',\n",
    "                        extract=True)"
   ]
  },
  {
   "cell_type": "markdown",
   "metadata": {
    "id": "qcruxiuX1cO5"
   },
   "source": [
    "### Explore the data\n",
    "\n",
    "The metadata for each file is specified in the csv file at `./datasets/ESC-50-master/meta/esc50.csv`\n",
    "\n",
    "and all the audio files are in `./datasets/ESC-50-master/audio/`\n",
    "\n",
    "You will create a pandas `DataFrame` with the mapping and use that to have a clearer view of the data.\n"
   ]
  },
  {
   "cell_type": "code",
   "execution_count": 26,
   "metadata": {
    "execution": {
     "iopub.execute_input": "2022-12-14T04:18:51.766072Z",
     "iopub.status.busy": "2022-12-14T04:18:51.765458Z",
     "iopub.status.idle": "2022-12-14T04:18:51.779310Z",
     "shell.execute_reply": "2022-12-14T04:18:51.778681Z"
    },
    "id": "jwmLygPrMAbH"
   },
   "outputs": [
    {
     "data": {
      "text/html": [
       "<div>\n",
       "<style scoped>\n",
       "    .dataframe tbody tr th:only-of-type {\n",
       "        vertical-align: middle;\n",
       "    }\n",
       "\n",
       "    .dataframe tbody tr th {\n",
       "        vertical-align: top;\n",
       "    }\n",
       "\n",
       "    .dataframe thead th {\n",
       "        text-align: right;\n",
       "    }\n",
       "</style>\n",
       "<table border=\"1\" class=\"dataframe\">\n",
       "  <thead>\n",
       "    <tr style=\"text-align: right;\">\n",
       "      <th></th>\n",
       "      <th>filename</th>\n",
       "      <th>fold</th>\n",
       "      <th>target</th>\n",
       "      <th>category</th>\n",
       "      <th>esc10</th>\n",
       "      <th>src_file</th>\n",
       "      <th>take</th>\n",
       "    </tr>\n",
       "  </thead>\n",
       "  <tbody>\n",
       "    <tr>\n",
       "      <th>0</th>\n",
       "      <td>1-100032-A-0.wav</td>\n",
       "      <td>1</td>\n",
       "      <td>0</td>\n",
       "      <td>dog</td>\n",
       "      <td>True</td>\n",
       "      <td>100032</td>\n",
       "      <td>A</td>\n",
       "    </tr>\n",
       "    <tr>\n",
       "      <th>1</th>\n",
       "      <td>1-100038-A-14.wav</td>\n",
       "      <td>1</td>\n",
       "      <td>14</td>\n",
       "      <td>chirping_birds</td>\n",
       "      <td>False</td>\n",
       "      <td>100038</td>\n",
       "      <td>A</td>\n",
       "    </tr>\n",
       "    <tr>\n",
       "      <th>2</th>\n",
       "      <td>1-100210-A-36.wav</td>\n",
       "      <td>1</td>\n",
       "      <td>36</td>\n",
       "      <td>vacuum_cleaner</td>\n",
       "      <td>False</td>\n",
       "      <td>100210</td>\n",
       "      <td>A</td>\n",
       "    </tr>\n",
       "    <tr>\n",
       "      <th>3</th>\n",
       "      <td>1-100210-B-36.wav</td>\n",
       "      <td>1</td>\n",
       "      <td>36</td>\n",
       "      <td>vacuum_cleaner</td>\n",
       "      <td>False</td>\n",
       "      <td>100210</td>\n",
       "      <td>B</td>\n",
       "    </tr>\n",
       "    <tr>\n",
       "      <th>4</th>\n",
       "      <td>1-101296-A-19.wav</td>\n",
       "      <td>1</td>\n",
       "      <td>19</td>\n",
       "      <td>thunderstorm</td>\n",
       "      <td>False</td>\n",
       "      <td>101296</td>\n",
       "      <td>A</td>\n",
       "    </tr>\n",
       "  </tbody>\n",
       "</table>\n",
       "</div>"
      ],
      "text/plain": [
       "            filename  fold  target        category  esc10  src_file take\n",
       "0   1-100032-A-0.wav     1       0             dog   True    100032    A\n",
       "1  1-100038-A-14.wav     1      14  chirping_birds  False    100038    A\n",
       "2  1-100210-A-36.wav     1      36  vacuum_cleaner  False    100210    A\n",
       "3  1-100210-B-36.wav     1      36  vacuum_cleaner  False    100210    B\n",
       "4  1-101296-A-19.wav     1      19    thunderstorm  False    101296    A"
      ]
     },
     "execution_count": 26,
     "metadata": {},
     "output_type": "execute_result"
    }
   ],
   "source": [
    "esc50_csv = './datasets/ESC-50-master/meta/esc50.csv'\n",
    "base_data_path = './datasets/ESC-50-master/audio/'\n",
    "\n",
    "pd_data = pd.read_csv(esc50_csv)\n",
    "pd_data.head()"
   ]
  },
  {
   "cell_type": "markdown",
   "metadata": {
    "id": "7d4rHBEQ2QAU"
   },
   "source": [
    "### Filter the data\n",
    "\n",
    "Now that the data is stored in the `DataFrame`, apply some transformations:\n",
    "\n",
    "- Filter out rows and use only the selected classes - `dog` and `cat`. If you want to use any other classes, this is where you can choose them.\n",
    "- Amend the filename to have the full path. This will make loading easier later.\n",
    "- Change targets to be within a specific range. In this example, `dog` will remain at `0`, but `cat` will become `1` instead of its original value of `5`."
   ]
  },
  {
   "cell_type": "code",
   "execution_count": 27,
   "metadata": {
    "execution": {
     "iopub.execute_input": "2022-12-14T04:18:51.782516Z",
     "iopub.status.busy": "2022-12-14T04:18:51.781975Z",
     "iopub.status.idle": "2022-12-14T04:18:51.794849Z",
     "shell.execute_reply": "2022-12-14T04:18:51.794243Z"
    },
    "id": "tFnEoQjgs14I"
   },
   "outputs": [
    {
     "data": {
      "text/html": [
       "<div>\n",
       "<style scoped>\n",
       "    .dataframe tbody tr th:only-of-type {\n",
       "        vertical-align: middle;\n",
       "    }\n",
       "\n",
       "    .dataframe tbody tr th {\n",
       "        vertical-align: top;\n",
       "    }\n",
       "\n",
       "    .dataframe thead th {\n",
       "        text-align: right;\n",
       "    }\n",
       "</style>\n",
       "<table border=\"1\" class=\"dataframe\">\n",
       "  <thead>\n",
       "    <tr style=\"text-align: right;\">\n",
       "      <th></th>\n",
       "      <th>filename</th>\n",
       "      <th>fold</th>\n",
       "      <th>target</th>\n",
       "      <th>category</th>\n",
       "      <th>esc10</th>\n",
       "      <th>src_file</th>\n",
       "      <th>take</th>\n",
       "    </tr>\n",
       "  </thead>\n",
       "  <tbody>\n",
       "    <tr>\n",
       "      <th>2</th>\n",
       "      <td>./datasets/ESC-50-master/audio/1-100210-A-36.wav</td>\n",
       "      <td>1</td>\n",
       "      <td>1</td>\n",
       "      <td>vacuum_cleaner</td>\n",
       "      <td>False</td>\n",
       "      <td>100210</td>\n",
       "      <td>A</td>\n",
       "    </tr>\n",
       "    <tr>\n",
       "      <th>3</th>\n",
       "      <td>./datasets/ESC-50-master/audio/1-100210-B-36.wav</td>\n",
       "      <td>1</td>\n",
       "      <td>1</td>\n",
       "      <td>vacuum_cleaner</td>\n",
       "      <td>False</td>\n",
       "      <td>100210</td>\n",
       "      <td>B</td>\n",
       "    </tr>\n",
       "    <tr>\n",
       "      <th>4</th>\n",
       "      <td>./datasets/ESC-50-master/audio/1-101296-A-19.wav</td>\n",
       "      <td>1</td>\n",
       "      <td>0</td>\n",
       "      <td>thunderstorm</td>\n",
       "      <td>False</td>\n",
       "      <td>101296</td>\n",
       "      <td>A</td>\n",
       "    </tr>\n",
       "    <tr>\n",
       "      <th>5</th>\n",
       "      <td>./datasets/ESC-50-master/audio/1-101296-B-19.wav</td>\n",
       "      <td>1</td>\n",
       "      <td>0</td>\n",
       "      <td>thunderstorm</td>\n",
       "      <td>False</td>\n",
       "      <td>101296</td>\n",
       "      <td>B</td>\n",
       "    </tr>\n",
       "    <tr>\n",
       "      <th>16</th>\n",
       "      <td>./datasets/ESC-50-master/audio/1-115521-A-19.wav</td>\n",
       "      <td>1</td>\n",
       "      <td>0</td>\n",
       "      <td>thunderstorm</td>\n",
       "      <td>False</td>\n",
       "      <td>115521</td>\n",
       "      <td>A</td>\n",
       "    </tr>\n",
       "    <tr>\n",
       "      <th>89</th>\n",
       "      <td>./datasets/ESC-50-master/audio/1-19840-A-36.wav</td>\n",
       "      <td>1</td>\n",
       "      <td>1</td>\n",
       "      <td>vacuum_cleaner</td>\n",
       "      <td>False</td>\n",
       "      <td>19840</td>\n",
       "      <td>A</td>\n",
       "    </tr>\n",
       "    <tr>\n",
       "      <th>90</th>\n",
       "      <td>./datasets/ESC-50-master/audio/1-19872-A-36.wav</td>\n",
       "      <td>1</td>\n",
       "      <td>1</td>\n",
       "      <td>vacuum_cleaner</td>\n",
       "      <td>False</td>\n",
       "      <td>19872</td>\n",
       "      <td>A</td>\n",
       "    </tr>\n",
       "    <tr>\n",
       "      <th>91</th>\n",
       "      <td>./datasets/ESC-50-master/audio/1-19872-B-36.wav</td>\n",
       "      <td>1</td>\n",
       "      <td>1</td>\n",
       "      <td>vacuum_cleaner</td>\n",
       "      <td>False</td>\n",
       "      <td>19872</td>\n",
       "      <td>B</td>\n",
       "    </tr>\n",
       "    <tr>\n",
       "      <th>119</th>\n",
       "      <td>./datasets/ESC-50-master/audio/1-23222-A-19.wav</td>\n",
       "      <td>1</td>\n",
       "      <td>0</td>\n",
       "      <td>thunderstorm</td>\n",
       "      <td>False</td>\n",
       "      <td>23222</td>\n",
       "      <td>A</td>\n",
       "    </tr>\n",
       "    <tr>\n",
       "      <th>120</th>\n",
       "      <td>./datasets/ESC-50-master/audio/1-23222-B-19.wav</td>\n",
       "      <td>1</td>\n",
       "      <td>0</td>\n",
       "      <td>thunderstorm</td>\n",
       "      <td>False</td>\n",
       "      <td>23222</td>\n",
       "      <td>B</td>\n",
       "    </tr>\n",
       "  </tbody>\n",
       "</table>\n",
       "</div>"
      ],
      "text/plain": [
       "                                             filename  fold  target  \\\n",
       "2    ./datasets/ESC-50-master/audio/1-100210-A-36.wav     1       1   \n",
       "3    ./datasets/ESC-50-master/audio/1-100210-B-36.wav     1       1   \n",
       "4    ./datasets/ESC-50-master/audio/1-101296-A-19.wav     1       0   \n",
       "5    ./datasets/ESC-50-master/audio/1-101296-B-19.wav     1       0   \n",
       "16   ./datasets/ESC-50-master/audio/1-115521-A-19.wav     1       0   \n",
       "89    ./datasets/ESC-50-master/audio/1-19840-A-36.wav     1       1   \n",
       "90    ./datasets/ESC-50-master/audio/1-19872-A-36.wav     1       1   \n",
       "91    ./datasets/ESC-50-master/audio/1-19872-B-36.wav     1       1   \n",
       "119   ./datasets/ESC-50-master/audio/1-23222-A-19.wav     1       0   \n",
       "120   ./datasets/ESC-50-master/audio/1-23222-B-19.wav     1       0   \n",
       "\n",
       "           category  esc10  src_file take  \n",
       "2    vacuum_cleaner  False    100210    A  \n",
       "3    vacuum_cleaner  False    100210    B  \n",
       "4      thunderstorm  False    101296    A  \n",
       "5      thunderstorm  False    101296    B  \n",
       "16     thunderstorm  False    115521    A  \n",
       "89   vacuum_cleaner  False     19840    A  \n",
       "90   vacuum_cleaner  False     19872    A  \n",
       "91   vacuum_cleaner  False     19872    B  \n",
       "119    thunderstorm  False     23222    A  \n",
       "120    thunderstorm  False     23222    B  "
      ]
     },
     "execution_count": 27,
     "metadata": {},
     "output_type": "execute_result"
    }
   ],
   "source": [
    "my_classes = ['thunderstorm', 'vacuum_cleaner']\n",
    "map_class_to_id = {'thunderstorm':0, 'vacuum_cleaner':1}\n",
    "\n",
    "\n",
    "filtered_pd = pd_data[pd_data.category.isin(my_classes)]\n",
    "\n",
    "class_id = filtered_pd['category'].apply(lambda name: map_class_to_id[name])\n",
    "filtered_pd = filtered_pd.assign(target=class_id)\n",
    "\n",
    "full_path = filtered_pd['filename'].apply(lambda row: os.path.join(base_data_path, row))\n",
    "filtered_pd = filtered_pd.assign(filename=full_path)\n",
    "\n",
    "filtered_pd.head(10)"
   ]
  },
  {
   "cell_type": "markdown",
   "metadata": {
    "id": "BkDcBS-aJdCz"
   },
   "source": [
    "### Load the audio files and retrieve embeddings\n",
    "\n",
    "Here you'll apply the `load_wav_16k_mono` and prepare the WAV data for the model.\n",
    "\n",
    "When extracting embeddings from the WAV data, you get an array of shape `(N, 1024)`  where `N` is the number of frames that YAMNet found (one for every 0.48 seconds of audio)."
   ]
  },
  {
   "cell_type": "markdown",
   "metadata": {
    "id": "AKDT5RomaDKO"
   },
   "source": [
    "Your model will use each frame as one input. Therefore, you need to create a new column that has one frame per row. You also need to expand the labels and the `fold` column to proper reflect these new rows.\n",
    "\n",
    "The expanded `fold` column keeps the original values. You cannot mix frames because, when performing the splits, you might end up having parts of the same audio on different splits, which would make your validation and test steps less effective."
   ]
  },
  {
   "cell_type": "code",
   "execution_count": 28,
   "metadata": {
    "execution": {
     "iopub.execute_input": "2022-12-14T04:18:51.798158Z",
     "iopub.status.busy": "2022-12-14T04:18:51.797536Z",
     "iopub.status.idle": "2022-12-14T04:18:51.811159Z",
     "shell.execute_reply": "2022-12-14T04:18:51.810577Z"
    },
    "id": "u5Rq3_PyKLtU"
   },
   "outputs": [
    {
     "data": {
      "text/plain": [
       "(TensorSpec(shape=(), dtype=tf.string, name=None),\n",
       " TensorSpec(shape=(), dtype=tf.int64, name=None),\n",
       " TensorSpec(shape=(), dtype=tf.int64, name=None))"
      ]
     },
     "execution_count": 28,
     "metadata": {},
     "output_type": "execute_result"
    }
   ],
   "source": [
    "filenames = filtered_pd['filename']\n",
    "targets = filtered_pd['target']\n",
    "folds = filtered_pd['fold']\n",
    "\n",
    "main_ds = tf.data.Dataset.from_tensor_slices((filenames, targets, folds))\n",
    "main_ds.element_spec"
   ]
  },
  {
   "cell_type": "code",
   "execution_count": 29,
   "metadata": {
    "execution": {
     "iopub.execute_input": "2022-12-14T04:18:51.814284Z",
     "iopub.status.busy": "2022-12-14T04:18:51.813707Z",
     "iopub.status.idle": "2022-12-14T04:18:51.956349Z",
     "shell.execute_reply": "2022-12-14T04:18:51.955746Z"
    },
    "id": "rsEfovDVAHGY"
   },
   "outputs": [
    {
     "name": "stdout",
     "output_type": "stream",
     "text": [
      "WARNING:tensorflow:From T:\\Anaconda\\lib\\site-packages\\tensorflow\\python\\autograph\\pyct\\static_analysis\\liveness.py:83: Analyzer.lamba_check (from tensorflow.python.autograph.pyct.static_analysis.liveness) is deprecated and will be removed after 2023-09-23.\n",
      "Instructions for updating:\n",
      "Lambda fuctions will be no more assumed to be used in the statement where they are used, or at least in the same block. https://github.com/tensorflow/tensorflow/issues/56089\n"
     ]
    },
    {
     "name": "stderr",
     "output_type": "stream",
     "text": [
      "WARNING:tensorflow:From T:\\Anaconda\\lib\\site-packages\\tensorflow\\python\\autograph\\pyct\\static_analysis\\liveness.py:83: Analyzer.lamba_check (from tensorflow.python.autograph.pyct.static_analysis.liveness) is deprecated and will be removed after 2023-09-23.\n",
      "Instructions for updating:\n",
      "Lambda fuctions will be no more assumed to be used in the statement where they are used, or at least in the same block. https://github.com/tensorflow/tensorflow/issues/56089\n"
     ]
    },
    {
     "name": "stdout",
     "output_type": "stream",
     "text": [
      "WARNING:tensorflow:Using a while_loop for converting IO>AudioResample cause there is no registered converter for this op.\n"
     ]
    },
    {
     "name": "stderr",
     "output_type": "stream",
     "text": [
      "WARNING:tensorflow:Using a while_loop for converting IO>AudioResample cause there is no registered converter for this op.\n"
     ]
    },
    {
     "data": {
      "text/plain": [
       "(TensorSpec(shape=<unknown>, dtype=tf.float32, name=None),\n",
       " TensorSpec(shape=(), dtype=tf.int64, name=None),\n",
       " TensorSpec(shape=(), dtype=tf.int64, name=None))"
      ]
     },
     "execution_count": 29,
     "metadata": {},
     "output_type": "execute_result"
    }
   ],
   "source": [
    "def load_wav_for_map(filename, label, fold):\n",
    "  return load_wav_16k_mono(filename), label, fold\n",
    "\n",
    "main_ds = main_ds.map(load_wav_for_map)\n",
    "main_ds.element_spec"
   ]
  },
  {
   "cell_type": "code",
   "execution_count": 30,
   "metadata": {
    "execution": {
     "iopub.execute_input": "2022-12-14T04:18:51.959461Z",
     "iopub.status.busy": "2022-12-14T04:18:51.959001Z",
     "iopub.status.idle": "2022-12-14T04:18:52.142205Z",
     "shell.execute_reply": "2022-12-14T04:18:52.141497Z"
    },
    "id": "k0tG8DBNAHcE"
   },
   "outputs": [
    {
     "data": {
      "text/plain": [
       "(TensorSpec(shape=(1024,), dtype=tf.float32, name=None),\n",
       " TensorSpec(shape=(), dtype=tf.int64, name=None),\n",
       " TensorSpec(shape=(), dtype=tf.int64, name=None))"
      ]
     },
     "execution_count": 30,
     "metadata": {},
     "output_type": "execute_result"
    }
   ],
   "source": [
    "# applies the embedding extraction model to a wav data\n",
    "def extract_embedding(wav_data, label, fold):\n",
    "  ''' run YAMNet to extract embedding from the wav data '''\n",
    "  scores, embeddings, spectrogram = yamnet_model(wav_data)\n",
    "  num_embeddings = tf.shape(embeddings)[0]\n",
    "  return (embeddings,\n",
    "            tf.repeat(label, num_embeddings),\n",
    "            tf.repeat(fold, num_embeddings))\n",
    "\n",
    "# extract embedding\n",
    "main_ds = main_ds.map(extract_embedding).unbatch()\n",
    "main_ds.element_spec"
   ]
  },
  {
   "cell_type": "markdown",
   "metadata": {
    "id": "ZdfPIeD0Qedk"
   },
   "source": [
    "### Split the data\n",
    "\n",
    "You will use the `fold` column to split the dataset into train, validation and test sets.\n",
    "\n",
    "ESC-50 is arranged into five uniformly-sized cross-validation `fold`s, such that clips from the same original source are always in the same `fold` - find out more in the [ESC: Dataset for Environmental Sound Classification](https://www.karolpiczak.com/papers/Piczak2015-ESC-Dataset.pdf) paper.\n",
    "\n",
    "The last step is to remove the `fold` column from the dataset since you're not going to use it during training.\n"
   ]
  },
  {
   "cell_type": "code",
   "execution_count": 31,
   "metadata": {
    "execution": {
     "iopub.execute_input": "2022-12-14T04:18:52.146236Z",
     "iopub.status.busy": "2022-12-14T04:18:52.145528Z",
     "iopub.status.idle": "2022-12-14T04:18:52.234549Z",
     "shell.execute_reply": "2022-12-14T04:18:52.233829Z"
    },
    "id": "1ZYvlFiVsffC"
   },
   "outputs": [],
   "source": [
    "cached_ds = main_ds.cache()\n",
    "train_ds = cached_ds.filter(lambda embedding, label, fold: fold < 4)\n",
    "val_ds = cached_ds.filter(lambda embedding, label, fold: fold == 4)\n",
    "test_ds = cached_ds.filter(lambda embedding, label, fold: fold == 5)\n",
    "\n",
    "# remove the folds column now that it's not needed anymore\n",
    "remove_fold_column = lambda embedding, label, fold: (embedding, label)\n",
    "\n",
    "train_ds = train_ds.map(remove_fold_column)\n",
    "val_ds = val_ds.map(remove_fold_column)\n",
    "test_ds = test_ds.map(remove_fold_column)\n",
    "\n",
    "train_ds = train_ds.cache().shuffle(1000).batch(32).prefetch(tf.data.AUTOTUNE)\n",
    "val_ds = val_ds.cache().batch(32).prefetch(tf.data.AUTOTUNE)\n",
    "test_ds = test_ds.cache().batch(32).prefetch(tf.data.AUTOTUNE)"
   ]
  },
  {
   "cell_type": "markdown",
   "metadata": {
    "id": "v5PaMwvtcAIe"
   },
   "source": [
    "## Create your model\n",
    "\n",
    "You did most of the work!\n",
    "Next, define a very simple [Sequential](https://www.tensorflow.org/guide/keras/sequential_model) model with one hidden layer and two outputs to recognize cats and dogs from sounds.\n"
   ]
  },
  {
   "cell_type": "code",
   "execution_count": 32,
   "metadata": {
    "execution": {
     "iopub.execute_input": "2022-12-14T04:18:52.238333Z",
     "iopub.status.busy": "2022-12-14T04:18:52.237851Z",
     "iopub.status.idle": "2022-12-14T04:18:52.287908Z",
     "shell.execute_reply": "2022-12-14T04:18:52.287271Z"
    },
    "id": "JYCE0Fr1GpN3"
   },
   "outputs": [
    {
     "name": "stdout",
     "output_type": "stream",
     "text": [
      "Model: \"my_model\"\n",
      "_________________________________________________________________\n",
      " Layer (type)                Output Shape              Param #   \n",
      "=================================================================\n",
      " dense (Dense)               (None, 512)               524800    \n",
      "                                                                 \n",
      " dense_1 (Dense)             (None, 2)                 1026      \n",
      "                                                                 \n",
      "=================================================================\n",
      "Total params: 525,826\n",
      "Trainable params: 525,826\n",
      "Non-trainable params: 0\n",
      "_________________________________________________________________\n"
     ]
    }
   ],
   "source": [
    "my_model = tf.keras.Sequential([\n",
    "    tf.keras.layers.Input(shape=(1024), dtype=tf.float32,\n",
    "                          name='input_embedding'),\n",
    "    tf.keras.layers.Dense(512, activation='relu'),\n",
    "    tf.keras.layers.Dense(len(my_classes))\n",
    "], name='my_model')\n",
    "\n",
    "my_model.summary()"
   ]
  },
  {
   "cell_type": "code",
   "execution_count": 33,
   "metadata": {
    "execution": {
     "iopub.execute_input": "2022-12-14T04:18:52.293804Z",
     "iopub.status.busy": "2022-12-14T04:18:52.293101Z",
     "iopub.status.idle": "2022-12-14T04:18:52.306769Z",
     "shell.execute_reply": "2022-12-14T04:18:52.306168Z"
    },
    "id": "l1qgH35HY0SE"
   },
   "outputs": [],
   "source": [
    "my_model.compile(loss=tf.keras.losses.SparseCategoricalCrossentropy(from_logits=True),\n",
    "                 optimizer=\"adam\",\n",
    "                 metrics=['accuracy'])\n",
    "\n",
    "callback = tf.keras.callbacks.EarlyStopping(monitor='loss',\n",
    "                                            patience=3,\n",
    "                                            restore_best_weights=True)"
   ]
  },
  {
   "cell_type": "code",
   "execution_count": 34,
   "metadata": {
    "execution": {
     "iopub.execute_input": "2022-12-14T04:18:52.309904Z",
     "iopub.status.busy": "2022-12-14T04:18:52.309387Z",
     "iopub.status.idle": "2022-12-14T04:18:58.376646Z",
     "shell.execute_reply": "2022-12-14T04:18:58.376018Z"
    },
    "id": "T3sj84eOZ3pk"
   },
   "outputs": [
    {
     "name": "stdout",
     "output_type": "stream",
     "text": [
      "Epoch 1/20\n",
      "15/15 [==============================] - 4s 21ms/step - loss: 0.1521 - accuracy: 0.9396 - val_loss: 0.0176 - val_accuracy: 1.0000\n",
      "Epoch 2/20\n",
      "15/15 [==============================] - 0s 4ms/step - loss: 0.0327 - accuracy: 0.9875 - val_loss: 0.0117 - val_accuracy: 1.0000\n",
      "Epoch 3/20\n",
      "15/15 [==============================] - 0s 4ms/step - loss: 0.0198 - accuracy: 0.9937 - val_loss: 0.0115 - val_accuracy: 1.0000\n",
      "Epoch 4/20\n",
      "15/15 [==============================] - 0s 4ms/step - loss: 0.0101 - accuracy: 0.9979 - val_loss: 0.0106 - val_accuracy: 1.0000\n",
      "Epoch 5/20\n",
      "15/15 [==============================] - 0s 4ms/step - loss: 0.0062 - accuracy: 0.9979 - val_loss: 0.0084 - val_accuracy: 1.0000\n",
      "Epoch 6/20\n",
      "15/15 [==============================] - 0s 4ms/step - loss: 0.0034 - accuracy: 1.0000 - val_loss: 0.0109 - val_accuracy: 0.9937\n",
      "Epoch 7/20\n",
      "15/15 [==============================] - 0s 4ms/step - loss: 0.0071 - accuracy: 0.9979 - val_loss: 0.0078 - val_accuracy: 1.0000\n",
      "Epoch 8/20\n",
      "15/15 [==============================] - 0s 4ms/step - loss: 0.0105 - accuracy: 0.9979 - val_loss: 0.0135 - val_accuracy: 0.9875\n",
      "Epoch 9/20\n",
      "15/15 [==============================] - 0s 4ms/step - loss: 0.0028 - accuracy: 1.0000 - val_loss: 0.0125 - val_accuracy: 0.9875\n",
      "Epoch 10/20\n",
      "15/15 [==============================] - 0s 4ms/step - loss: 0.0013 - accuracy: 1.0000 - val_loss: 0.0095 - val_accuracy: 0.9937\n",
      "Epoch 11/20\n",
      "15/15 [==============================] - 0s 4ms/step - loss: 0.0012 - accuracy: 1.0000 - val_loss: 0.0092 - val_accuracy: 0.9937\n",
      "Epoch 12/20\n",
      "15/15 [==============================] - 0s 4ms/step - loss: 9.8373e-04 - accuracy: 1.0000 - val_loss: 0.0108 - val_accuracy: 0.9875\n",
      "Epoch 13/20\n",
      "15/15 [==============================] - 0s 4ms/step - loss: 8.5871e-04 - accuracy: 1.0000 - val_loss: 0.0101 - val_accuracy: 0.9937\n",
      "Epoch 14/20\n",
      "15/15 [==============================] - 0s 4ms/step - loss: 7.3924e-04 - accuracy: 1.0000 - val_loss: 0.0108 - val_accuracy: 0.9875\n",
      "Epoch 15/20\n",
      "15/15 [==============================] - 0s 4ms/step - loss: 6.6310e-04 - accuracy: 1.0000 - val_loss: 0.0109 - val_accuracy: 0.9875\n",
      "Epoch 16/20\n",
      "15/15 [==============================] - 0s 4ms/step - loss: 5.8787e-04 - accuracy: 1.0000 - val_loss: 0.0109 - val_accuracy: 0.9875\n",
      "Epoch 17/20\n",
      "15/15 [==============================] - 0s 4ms/step - loss: 5.2105e-04 - accuracy: 1.0000 - val_loss: 0.0105 - val_accuracy: 0.9875\n",
      "Epoch 18/20\n",
      "15/15 [==============================] - 0s 5ms/step - loss: 4.7250e-04 - accuracy: 1.0000 - val_loss: 0.0103 - val_accuracy: 0.9937\n",
      "Epoch 19/20\n",
      "15/15 [==============================] - 0s 4ms/step - loss: 4.2838e-04 - accuracy: 1.0000 - val_loss: 0.0110 - val_accuracy: 0.9875\n",
      "Epoch 20/20\n",
      "15/15 [==============================] - 0s 5ms/step - loss: 3.8386e-04 - accuracy: 1.0000 - val_loss: 0.0110 - val_accuracy: 0.9875\n"
     ]
    }
   ],
   "source": [
    "history = my_model.fit(train_ds,\n",
    "                       epochs=20,\n",
    "                       validation_data=val_ds,\n",
    "                       callbacks=callback)"
   ]
  },
  {
   "cell_type": "markdown",
   "metadata": {
    "id": "OAbraYKYpdoE"
   },
   "source": [
    "Let's run the `evaluate` method on the test data just to be sure there's no overfitting."
   ]
  },
  {
   "cell_type": "code",
   "execution_count": 35,
   "metadata": {
    "execution": {
     "iopub.execute_input": "2022-12-14T04:18:58.380355Z",
     "iopub.status.busy": "2022-12-14T04:18:58.379735Z",
     "iopub.status.idle": "2022-12-14T04:18:58.548380Z",
     "shell.execute_reply": "2022-12-14T04:18:58.547648Z"
    },
    "id": "H4Nh5nec3Sky"
   },
   "outputs": [
    {
     "name": "stdout",
     "output_type": "stream",
     "text": [
      "5/5 [==============================] - 0s 4ms/step - loss: 0.0438 - accuracy: 0.9750\n",
      "Loss:  0.04377112537622452\n",
      "Accuracy:  0.9750000238418579\n"
     ]
    }
   ],
   "source": [
    "loss, accuracy = my_model.evaluate(test_ds)\n",
    "\n",
    "print(\"Loss: \", loss)\n",
    "print(\"Accuracy: \", accuracy)"
   ]
  },
  {
   "cell_type": "code",
   "execution_count": 36,
   "metadata": {},
   "outputs": [
    {
     "data": {
      "image/png": "[encoded data removed]",
      "text/plain": [
       "<Figure size 800x500 with 1 Axes>"
      ]
     },
     "metadata": {},
     "output_type": "display_data"
    }
   ],
   "source": [
    "pd.DataFrame(history.history).plot(figsize=(8,5))\n",
    "plt.show()"
   ]
  },
  {
   "cell_type": "code",
   "execution_count": null,
   "metadata": {},
   "outputs": [],
   "source": []
  }
 ],
 "metadata": {
  "accelerator": "GPU",
  "colab": {
   "collapsed_sections": [],
   "name": "transfer_learning_audio.ipynb",
   "toc_visible": true
  },
  "kernelspec": {
   "display_name": "Python 3 (ipykernel)",
   "language": "python",
   "name": "python3"
  },
  "language_info": {
   "codemirror_mode": {
    "name": "ipython",
    "version": 3
   },
   "file_extension": ".py",
   "mimetype": "text/x-python",
   "name": "python",
   "nbconvert_exporter": "python",
   "pygments_lexer": "ipython3",
   "version": "3.9.13"
  }
 },
 "nbformat": 4,
 "nbformat_minor": 1
}
