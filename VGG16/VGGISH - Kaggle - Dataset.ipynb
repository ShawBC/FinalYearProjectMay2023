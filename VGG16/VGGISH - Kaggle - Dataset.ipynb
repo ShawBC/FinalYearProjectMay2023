{
 "cells": [
  {
   "cell_type": "code",
   "execution_count": 59,
   "id": "0dae5e93",
   "metadata": {},
   "outputs": [],
   "source": [
    "import os\n",
    "\n",
    "from IPython import display\n",
    "import matplotlib.pyplot as plt\n",
    "import numpy as np\n",
    "import pandas as pd\n",
    "\n",
    "import tensorflow as tf\n",
    "import tensorflow_hub as hub\n",
    "import tensorflow_io as tfio\n",
    "\n",
    "import sys\n",
    "\n",
    "import os\n",
    "import io \n",
    "\n",
    "import pydub\n",
    "\n",
    "import matplotlib.pyplot as plt\n",
    "import numpy as np\n",
    "import pandas as pd\n",
    "\n",
    "\n",
    "from pydub import AudioSegment\n",
    "from pydub.utils import make_chunks\n",
    "from IPython import display\n",
    "from collections import namedtuple\n",
    "from datetime import datetime \n",
    "from pathlib import Path\n",
    "from sklearn import preprocessing"
   ]
  },
  {
   "cell_type": "code",
   "execution_count": 60,
   "id": "c3e5db9d",
   "metadata": {},
   "outputs": [],
   "source": [
    "# Load the model.\n",
    "vgg_model = hub.load('https://tfhub.dev/google/vggish/1')\n",
    "\n",
    "# Input: 3 seconds of silence as mono 16 kHz waveform samples.\n",
    "waveform = np.zeros(3 * 16000, dtype=np.float32)\n",
    "\n",
    "# Run the model, check the output.\n",
    "embeddings = vgg_model(waveform)\n",
    "embeddings.shape.assert_is_compatible_with([None, 128])"
   ]
  },
  {
   "cell_type": "code",
   "execution_count": 61,
   "id": "58f7756e",
   "metadata": {},
   "outputs": [],
   "source": [
    "test_file = namedtuple('ChordList_test', 'filenames targets')\n",
    "train_file = namedtuple('ChordList_train', 'filenames targets')"
   ]
  },
  {
   "cell_type": "code",
   "execution_count": 62,
   "id": "e653cc09",
   "metadata": {},
   "outputs": [],
   "source": [
    "test_files = []\n",
    "train_files = []\n",
    "\n",
    "test_path = Path('T:\\FINAL YEAR PROJECT\\PROJECT\\Test')\n",
    "train_path = Path('T:\\FINAL YEAR PROJECT\\PROJECT\\Training')\n",
    "\n",
    "for item in test_path.glob('**/*'):\n",
    "    if item.suffix in ['.wav']:\n",
    "        filenames = str(Path.resolve(item))\n",
    "        targets = str((os.path.basename(item)).split('_')[0])\n",
    "        \n",
    "        test_files.append(test_file(filenames, targets))\n",
    "        \n",
    "for item in train_path.glob('**/*'):\n",
    "    if item.suffix in ['.wav']:\n",
    "        filenames = str(Path.resolve(item))\n",
    "        targets = str((os.path.basename(item)).split('_')[0])\n",
    "        \n",
    "        train_files.append(train_file(filenames, targets))\n",
    "        "
   ]
  },
  {
   "cell_type": "code",
   "execution_count": 63,
   "id": "96eb2a25",
   "metadata": {},
   "outputs": [],
   "source": [
    "test_dataframe = pd.DataFrame(test_files)\n",
    "train_dataframe = pd.DataFrame(train_files)"
   ]
  },
  {
   "cell_type": "code",
   "execution_count": 64,
   "id": "4bac4d65",
   "metadata": {},
   "outputs": [
    {
     "data": {
      "text/html": [
       "<div>\n",
       "<style scoped>\n",
       "    .dataframe tbody tr th:only-of-type {\n",
       "        vertical-align: middle;\n",
       "    }\n",
       "\n",
       "    .dataframe tbody tr th {\n",
       "        vertical-align: top;\n",
       "    }\n",
       "\n",
       "    .dataframe thead th {\n",
       "        text-align: right;\n",
       "    }\n",
       "</style>\n",
       "<table border=\"1\" class=\"dataframe\">\n",
       "  <thead>\n",
       "    <tr style=\"text-align: right;\">\n",
       "      <th></th>\n",
       "      <th>filenames</th>\n",
       "      <th>targets</th>\n",
       "    </tr>\n",
       "  </thead>\n",
       "  <tbody>\n",
       "    <tr>\n",
       "      <th>0</th>\n",
       "      <td>T:\\FINAL YEAR PROJECT\\PROJECT\\Test\\Am\\Am_Acust...</td>\n",
       "      <td>Am</td>\n",
       "    </tr>\n",
       "    <tr>\n",
       "      <th>1</th>\n",
       "      <td>T:\\FINAL YEAR PROJECT\\PROJECT\\Test\\Am\\Am_Acust...</td>\n",
       "      <td>Am</td>\n",
       "    </tr>\n",
       "    <tr>\n",
       "      <th>2</th>\n",
       "      <td>T:\\FINAL YEAR PROJECT\\PROJECT\\Test\\Am\\Am_Acust...</td>\n",
       "      <td>Am</td>\n",
       "    </tr>\n",
       "    <tr>\n",
       "      <th>3</th>\n",
       "      <td>T:\\FINAL YEAR PROJECT\\PROJECT\\Test\\Am\\Am_Acust...</td>\n",
       "      <td>Am</td>\n",
       "    </tr>\n",
       "    <tr>\n",
       "      <th>4</th>\n",
       "      <td>T:\\FINAL YEAR PROJECT\\PROJECT\\Test\\Am\\Am_Acust...</td>\n",
       "      <td>Am</td>\n",
       "    </tr>\n",
       "    <tr>\n",
       "      <th>...</th>\n",
       "      <td>...</td>\n",
       "      <td>...</td>\n",
       "    </tr>\n",
       "    <tr>\n",
       "      <th>315</th>\n",
       "      <td>T:\\FINAL YEAR PROJECT\\PROJECT\\Test\\G\\G_Electri...</td>\n",
       "      <td>G</td>\n",
       "    </tr>\n",
       "    <tr>\n",
       "      <th>316</th>\n",
       "      <td>T:\\FINAL YEAR PROJECT\\PROJECT\\Test\\G\\G_Electri...</td>\n",
       "      <td>G</td>\n",
       "    </tr>\n",
       "    <tr>\n",
       "      <th>317</th>\n",
       "      <td>T:\\FINAL YEAR PROJECT\\PROJECT\\Test\\G\\G_Electri...</td>\n",
       "      <td>G</td>\n",
       "    </tr>\n",
       "    <tr>\n",
       "      <th>318</th>\n",
       "      <td>T:\\FINAL YEAR PROJECT\\PROJECT\\Test\\G\\G_Electri...</td>\n",
       "      <td>G</td>\n",
       "    </tr>\n",
       "    <tr>\n",
       "      <th>319</th>\n",
       "      <td>T:\\FINAL YEAR PROJECT\\PROJECT\\Test\\G\\G_Electri...</td>\n",
       "      <td>G</td>\n",
       "    </tr>\n",
       "  </tbody>\n",
       "</table>\n",
       "<p>320 rows × 2 columns</p>\n",
       "</div>"
      ],
      "text/plain": [
       "                                             filenames targets\n",
       "0    T:\\FINAL YEAR PROJECT\\PROJECT\\Test\\Am\\Am_Acust...      Am\n",
       "1    T:\\FINAL YEAR PROJECT\\PROJECT\\Test\\Am\\Am_Acust...      Am\n",
       "2    T:\\FINAL YEAR PROJECT\\PROJECT\\Test\\Am\\Am_Acust...      Am\n",
       "3    T:\\FINAL YEAR PROJECT\\PROJECT\\Test\\Am\\Am_Acust...      Am\n",
       "4    T:\\FINAL YEAR PROJECT\\PROJECT\\Test\\Am\\Am_Acust...      Am\n",
       "..                                                 ...     ...\n",
       "315  T:\\FINAL YEAR PROJECT\\PROJECT\\Test\\G\\G_Electri...       G\n",
       "316  T:\\FINAL YEAR PROJECT\\PROJECT\\Test\\G\\G_Electri...       G\n",
       "317  T:\\FINAL YEAR PROJECT\\PROJECT\\Test\\G\\G_Electri...       G\n",
       "318  T:\\FINAL YEAR PROJECT\\PROJECT\\Test\\G\\G_Electri...       G\n",
       "319  T:\\FINAL YEAR PROJECT\\PROJECT\\Test\\G\\G_Electri...       G\n",
       "\n",
       "[320 rows x 2 columns]"
      ]
     },
     "execution_count": 64,
     "metadata": {},
     "output_type": "execute_result"
    }
   ],
   "source": [
    "test_dataframe\n"
   ]
  },
  {
   "cell_type": "code",
   "execution_count": 65,
   "id": "ed573451",
   "metadata": {},
   "outputs": [
    {
     "data": {
      "text/html": [
       "<div>\n",
       "<style scoped>\n",
       "    .dataframe tbody tr th:only-of-type {\n",
       "        vertical-align: middle;\n",
       "    }\n",
       "\n",
       "    .dataframe tbody tr th {\n",
       "        vertical-align: top;\n",
       "    }\n",
       "\n",
       "    .dataframe thead th {\n",
       "        text-align: right;\n",
       "    }\n",
       "</style>\n",
       "<table border=\"1\" class=\"dataframe\">\n",
       "  <thead>\n",
       "    <tr style=\"text-align: right;\">\n",
       "      <th></th>\n",
       "      <th>filenames</th>\n",
       "      <th>targets</th>\n",
       "    </tr>\n",
       "  </thead>\n",
       "  <tbody>\n",
       "    <tr>\n",
       "      <th>0</th>\n",
       "      <td>T:\\FINAL YEAR PROJECT\\PROJECT\\Training\\Am\\Am_a...</td>\n",
       "      <td>Am</td>\n",
       "    </tr>\n",
       "    <tr>\n",
       "      <th>1</th>\n",
       "      <td>T:\\FINAL YEAR PROJECT\\PROJECT\\Training\\Am\\Am_a...</td>\n",
       "      <td>Am</td>\n",
       "    </tr>\n",
       "    <tr>\n",
       "      <th>2</th>\n",
       "      <td>T:\\FINAL YEAR PROJECT\\PROJECT\\Training\\Am\\Am_a...</td>\n",
       "      <td>Am</td>\n",
       "    </tr>\n",
       "    <tr>\n",
       "      <th>3</th>\n",
       "      <td>T:\\FINAL YEAR PROJECT\\PROJECT\\Training\\Am\\Am_a...</td>\n",
       "      <td>Am</td>\n",
       "    </tr>\n",
       "    <tr>\n",
       "      <th>4</th>\n",
       "      <td>T:\\FINAL YEAR PROJECT\\PROJECT\\Training\\Am\\Am_A...</td>\n",
       "      <td>Am</td>\n",
       "    </tr>\n",
       "    <tr>\n",
       "      <th>...</th>\n",
       "      <td>...</td>\n",
       "      <td>...</td>\n",
       "    </tr>\n",
       "    <tr>\n",
       "      <th>1435</th>\n",
       "      <td>T:\\FINAL YEAR PROJECT\\PROJECT\\Training\\G\\G_Roc...</td>\n",
       "      <td>G</td>\n",
       "    </tr>\n",
       "    <tr>\n",
       "      <th>1436</th>\n",
       "      <td>T:\\FINAL YEAR PROJECT\\PROJECT\\Training\\G\\G_Roo...</td>\n",
       "      <td>G</td>\n",
       "    </tr>\n",
       "    <tr>\n",
       "      <th>1437</th>\n",
       "      <td>T:\\FINAL YEAR PROJECT\\PROJECT\\Training\\G\\G_Roo...</td>\n",
       "      <td>G</td>\n",
       "    </tr>\n",
       "    <tr>\n",
       "      <th>1438</th>\n",
       "      <td>T:\\FINAL YEAR PROJECT\\PROJECT\\Training\\G\\G_Roo...</td>\n",
       "      <td>G</td>\n",
       "    </tr>\n",
       "    <tr>\n",
       "      <th>1439</th>\n",
       "      <td>T:\\FINAL YEAR PROJECT\\PROJECT\\Training\\G\\G_Roo...</td>\n",
       "      <td>G</td>\n",
       "    </tr>\n",
       "  </tbody>\n",
       "</table>\n",
       "<p>1440 rows × 2 columns</p>\n",
       "</div>"
      ],
      "text/plain": [
       "                                              filenames targets\n",
       "0     T:\\FINAL YEAR PROJECT\\PROJECT\\Training\\Am\\Am_a...      Am\n",
       "1     T:\\FINAL YEAR PROJECT\\PROJECT\\Training\\Am\\Am_a...      Am\n",
       "2     T:\\FINAL YEAR PROJECT\\PROJECT\\Training\\Am\\Am_a...      Am\n",
       "3     T:\\FINAL YEAR PROJECT\\PROJECT\\Training\\Am\\Am_a...      Am\n",
       "4     T:\\FINAL YEAR PROJECT\\PROJECT\\Training\\Am\\Am_A...      Am\n",
       "...                                                 ...     ...\n",
       "1435  T:\\FINAL YEAR PROJECT\\PROJECT\\Training\\G\\G_Roc...       G\n",
       "1436  T:\\FINAL YEAR PROJECT\\PROJECT\\Training\\G\\G_Roo...       G\n",
       "1437  T:\\FINAL YEAR PROJECT\\PROJECT\\Training\\G\\G_Roo...       G\n",
       "1438  T:\\FINAL YEAR PROJECT\\PROJECT\\Training\\G\\G_Roo...       G\n",
       "1439  T:\\FINAL YEAR PROJECT\\PROJECT\\Training\\G\\G_Roo...       G\n",
       "\n",
       "[1440 rows x 2 columns]"
      ]
     },
     "execution_count": 65,
     "metadata": {},
     "output_type": "execute_result"
    }
   ],
   "source": [
    "train_dataframe"
   ]
  },
  {
   "cell_type": "code",
   "execution_count": 66,
   "id": "aba3476a",
   "metadata": {},
   "outputs": [],
   "source": [
    "# Label encode DATA\n",
    "le_test = preprocessing.LabelEncoder()\n",
    "label_encoded_df = test_dataframe.copy()\n",
    "encoded_labels = le_test.fit_transform(label_encoded_df['targets'])\n",
    "test_df = label_encoded_df.assign(labels=encoded_labels)\n",
    "        "
   ]
  },
  {
   "cell_type": "code",
   "execution_count": 67,
   "id": "8097fa36",
   "metadata": {},
   "outputs": [],
   "source": [
    "le_train = preprocessing.LabelEncoder()\n",
    "label_encoded_df = train_dataframe.copy()\n",
    "encoded_labels = le_train.fit_transform(label_encoded_df['targets'])\n",
    "train_df = label_encoded_df.assign(labels=encoded_labels)"
   ]
  },
  {
   "cell_type": "code",
   "execution_count": 68,
   "id": "241afe4b",
   "metadata": {},
   "outputs": [
    {
     "data": {
      "text/html": [
       "<div>\n",
       "<style scoped>\n",
       "    .dataframe tbody tr th:only-of-type {\n",
       "        vertical-align: middle;\n",
       "    }\n",
       "\n",
       "    .dataframe tbody tr th {\n",
       "        vertical-align: top;\n",
       "    }\n",
       "\n",
       "    .dataframe thead th {\n",
       "        text-align: right;\n",
       "    }\n",
       "</style>\n",
       "<table border=\"1\" class=\"dataframe\">\n",
       "  <thead>\n",
       "    <tr style=\"text-align: right;\">\n",
       "      <th></th>\n",
       "      <th>filenames</th>\n",
       "      <th>targets</th>\n",
       "      <th>labels</th>\n",
       "    </tr>\n",
       "  </thead>\n",
       "  <tbody>\n",
       "    <tr>\n",
       "      <th>0</th>\n",
       "      <td>T:\\FINAL YEAR PROJECT\\PROJECT\\Test\\Am\\Am_Acust...</td>\n",
       "      <td>Am</td>\n",
       "      <td>0</td>\n",
       "    </tr>\n",
       "    <tr>\n",
       "      <th>1</th>\n",
       "      <td>T:\\FINAL YEAR PROJECT\\PROJECT\\Test\\Am\\Am_Acust...</td>\n",
       "      <td>Am</td>\n",
       "      <td>0</td>\n",
       "    </tr>\n",
       "    <tr>\n",
       "      <th>2</th>\n",
       "      <td>T:\\FINAL YEAR PROJECT\\PROJECT\\Test\\Am\\Am_Acust...</td>\n",
       "      <td>Am</td>\n",
       "      <td>0</td>\n",
       "    </tr>\n",
       "    <tr>\n",
       "      <th>3</th>\n",
       "      <td>T:\\FINAL YEAR PROJECT\\PROJECT\\Test\\Am\\Am_Acust...</td>\n",
       "      <td>Am</td>\n",
       "      <td>0</td>\n",
       "    </tr>\n",
       "    <tr>\n",
       "      <th>4</th>\n",
       "      <td>T:\\FINAL YEAR PROJECT\\PROJECT\\Test\\Am\\Am_Acust...</td>\n",
       "      <td>Am</td>\n",
       "      <td>0</td>\n",
       "    </tr>\n",
       "    <tr>\n",
       "      <th>...</th>\n",
       "      <td>...</td>\n",
       "      <td>...</td>\n",
       "      <td>...</td>\n",
       "    </tr>\n",
       "    <tr>\n",
       "      <th>315</th>\n",
       "      <td>T:\\FINAL YEAR PROJECT\\PROJECT\\Test\\G\\G_Electri...</td>\n",
       "      <td>G</td>\n",
       "      <td>7</td>\n",
       "    </tr>\n",
       "    <tr>\n",
       "      <th>316</th>\n",
       "      <td>T:\\FINAL YEAR PROJECT\\PROJECT\\Test\\G\\G_Electri...</td>\n",
       "      <td>G</td>\n",
       "      <td>7</td>\n",
       "    </tr>\n",
       "    <tr>\n",
       "      <th>317</th>\n",
       "      <td>T:\\FINAL YEAR PROJECT\\PROJECT\\Test\\G\\G_Electri...</td>\n",
       "      <td>G</td>\n",
       "      <td>7</td>\n",
       "    </tr>\n",
       "    <tr>\n",
       "      <th>318</th>\n",
       "      <td>T:\\FINAL YEAR PROJECT\\PROJECT\\Test\\G\\G_Electri...</td>\n",
       "      <td>G</td>\n",
       "      <td>7</td>\n",
       "    </tr>\n",
       "    <tr>\n",
       "      <th>319</th>\n",
       "      <td>T:\\FINAL YEAR PROJECT\\PROJECT\\Test\\G\\G_Electri...</td>\n",
       "      <td>G</td>\n",
       "      <td>7</td>\n",
       "    </tr>\n",
       "  </tbody>\n",
       "</table>\n",
       "<p>320 rows × 3 columns</p>\n",
       "</div>"
      ],
      "text/plain": [
       "                                             filenames targets  labels\n",
       "0    T:\\FINAL YEAR PROJECT\\PROJECT\\Test\\Am\\Am_Acust...      Am       0\n",
       "1    T:\\FINAL YEAR PROJECT\\PROJECT\\Test\\Am\\Am_Acust...      Am       0\n",
       "2    T:\\FINAL YEAR PROJECT\\PROJECT\\Test\\Am\\Am_Acust...      Am       0\n",
       "3    T:\\FINAL YEAR PROJECT\\PROJECT\\Test\\Am\\Am_Acust...      Am       0\n",
       "4    T:\\FINAL YEAR PROJECT\\PROJECT\\Test\\Am\\Am_Acust...      Am       0\n",
       "..                                                 ...     ...     ...\n",
       "315  T:\\FINAL YEAR PROJECT\\PROJECT\\Test\\G\\G_Electri...       G       7\n",
       "316  T:\\FINAL YEAR PROJECT\\PROJECT\\Test\\G\\G_Electri...       G       7\n",
       "317  T:\\FINAL YEAR PROJECT\\PROJECT\\Test\\G\\G_Electri...       G       7\n",
       "318  T:\\FINAL YEAR PROJECT\\PROJECT\\Test\\G\\G_Electri...       G       7\n",
       "319  T:\\FINAL YEAR PROJECT\\PROJECT\\Test\\G\\G_Electri...       G       7\n",
       "\n",
       "[320 rows x 3 columns]"
      ]
     },
     "execution_count": 68,
     "metadata": {},
     "output_type": "execute_result"
    }
   ],
   "source": [
    "test_df"
   ]
  },
  {
   "cell_type": "code",
   "execution_count": 69,
   "id": "3e1eb01c",
   "metadata": {},
   "outputs": [
    {
     "data": {
      "text/html": [
       "<div>\n",
       "<style scoped>\n",
       "    .dataframe tbody tr th:only-of-type {\n",
       "        vertical-align: middle;\n",
       "    }\n",
       "\n",
       "    .dataframe tbody tr th {\n",
       "        vertical-align: top;\n",
       "    }\n",
       "\n",
       "    .dataframe thead th {\n",
       "        text-align: right;\n",
       "    }\n",
       "</style>\n",
       "<table border=\"1\" class=\"dataframe\">\n",
       "  <thead>\n",
       "    <tr style=\"text-align: right;\">\n",
       "      <th></th>\n",
       "      <th>filenames</th>\n",
       "      <th>targets</th>\n",
       "      <th>labels</th>\n",
       "    </tr>\n",
       "  </thead>\n",
       "  <tbody>\n",
       "    <tr>\n",
       "      <th>0</th>\n",
       "      <td>T:\\FINAL YEAR PROJECT\\PROJECT\\Training\\Am\\Am_a...</td>\n",
       "      <td>Am</td>\n",
       "      <td>0</td>\n",
       "    </tr>\n",
       "    <tr>\n",
       "      <th>1</th>\n",
       "      <td>T:\\FINAL YEAR PROJECT\\PROJECT\\Training\\Am\\Am_a...</td>\n",
       "      <td>Am</td>\n",
       "      <td>0</td>\n",
       "    </tr>\n",
       "    <tr>\n",
       "      <th>2</th>\n",
       "      <td>T:\\FINAL YEAR PROJECT\\PROJECT\\Training\\Am\\Am_a...</td>\n",
       "      <td>Am</td>\n",
       "      <td>0</td>\n",
       "    </tr>\n",
       "    <tr>\n",
       "      <th>3</th>\n",
       "      <td>T:\\FINAL YEAR PROJECT\\PROJECT\\Training\\Am\\Am_a...</td>\n",
       "      <td>Am</td>\n",
       "      <td>0</td>\n",
       "    </tr>\n",
       "    <tr>\n",
       "      <th>4</th>\n",
       "      <td>T:\\FINAL YEAR PROJECT\\PROJECT\\Training\\Am\\Am_A...</td>\n",
       "      <td>Am</td>\n",
       "      <td>0</td>\n",
       "    </tr>\n",
       "    <tr>\n",
       "      <th>...</th>\n",
       "      <td>...</td>\n",
       "      <td>...</td>\n",
       "      <td>...</td>\n",
       "    </tr>\n",
       "    <tr>\n",
       "      <th>1435</th>\n",
       "      <td>T:\\FINAL YEAR PROJECT\\PROJECT\\Training\\G\\G_Roc...</td>\n",
       "      <td>G</td>\n",
       "      <td>7</td>\n",
       "    </tr>\n",
       "    <tr>\n",
       "      <th>1436</th>\n",
       "      <td>T:\\FINAL YEAR PROJECT\\PROJECT\\Training\\G\\G_Roo...</td>\n",
       "      <td>G</td>\n",
       "      <td>7</td>\n",
       "    </tr>\n",
       "    <tr>\n",
       "      <th>1437</th>\n",
       "      <td>T:\\FINAL YEAR PROJECT\\PROJECT\\Training\\G\\G_Roo...</td>\n",
       "      <td>G</td>\n",
       "      <td>7</td>\n",
       "    </tr>\n",
       "    <tr>\n",
       "      <th>1438</th>\n",
       "      <td>T:\\FINAL YEAR PROJECT\\PROJECT\\Training\\G\\G_Roo...</td>\n",
       "      <td>G</td>\n",
       "      <td>7</td>\n",
       "    </tr>\n",
       "    <tr>\n",
       "      <th>1439</th>\n",
       "      <td>T:\\FINAL YEAR PROJECT\\PROJECT\\Training\\G\\G_Roo...</td>\n",
       "      <td>G</td>\n",
       "      <td>7</td>\n",
       "    </tr>\n",
       "  </tbody>\n",
       "</table>\n",
       "<p>1440 rows × 3 columns</p>\n",
       "</div>"
      ],
      "text/plain": [
       "                                              filenames targets  labels\n",
       "0     T:\\FINAL YEAR PROJECT\\PROJECT\\Training\\Am\\Am_a...      Am       0\n",
       "1     T:\\FINAL YEAR PROJECT\\PROJECT\\Training\\Am\\Am_a...      Am       0\n",
       "2     T:\\FINAL YEAR PROJECT\\PROJECT\\Training\\Am\\Am_a...      Am       0\n",
       "3     T:\\FINAL YEAR PROJECT\\PROJECT\\Training\\Am\\Am_a...      Am       0\n",
       "4     T:\\FINAL YEAR PROJECT\\PROJECT\\Training\\Am\\Am_A...      Am       0\n",
       "...                                                 ...     ...     ...\n",
       "1435  T:\\FINAL YEAR PROJECT\\PROJECT\\Training\\G\\G_Roc...       G       7\n",
       "1436  T:\\FINAL YEAR PROJECT\\PROJECT\\Training\\G\\G_Roo...       G       7\n",
       "1437  T:\\FINAL YEAR PROJECT\\PROJECT\\Training\\G\\G_Roo...       G       7\n",
       "1438  T:\\FINAL YEAR PROJECT\\PROJECT\\Training\\G\\G_Roo...       G       7\n",
       "1439  T:\\FINAL YEAR PROJECT\\PROJECT\\Training\\G\\G_Roo...       G       7\n",
       "\n",
       "[1440 rows x 3 columns]"
      ]
     },
     "execution_count": 69,
     "metadata": {},
     "output_type": "execute_result"
    }
   ],
   "source": [
    "train_df"
   ]
  },
  {
   "cell_type": "code",
   "execution_count": 111,
   "id": "c0030e4f",
   "metadata": {},
   "outputs": [],
   "source": [
    "filenames = train_df['filenames']\n",
    "labels = train_df['labels']\n",
    "train_ds = tf.data.Dataset.from_tensor_slices((filenames, labels))\n",
    "\n",
    "filenames = test_df['filenames']\n",
    "labels = test_df['labels']\n",
    "test_ds = tf.data.Dataset.from_tensor_slices((filenames, labels))"
   ]
  },
  {
   "cell_type": "code",
   "execution_count": 112,
   "id": "528f810f",
   "metadata": {},
   "outputs": [],
   "source": [
    "# Utility functions for loading audio files and making sure the sample rate is correct.\n",
    "\n",
    "@tf.function\n",
    "def load_wav_16k_mono(filename):\n",
    "    \"\"\" Load a WAV file, convert it to a float tensor, resample to 16 kHz single-channel audio. \"\"\"\n",
    "    file_contents = tf.io.read_file(filename)\n",
    "    wav, sample_rate = tf.audio.decode_wav(\n",
    "          file_contents,\n",
    "          desired_channels=1)\n",
    "    wav = tf.squeeze(wav, axis=-1)\n",
    "    sample_rate = tf.cast(sample_rate, dtype=tf.int64)\n",
    "    wav = tfio.audio.resample(wav, rate_in=sample_rate, rate_out=16000)\n",
    "    return wav"
   ]
  },
  {
   "cell_type": "code",
   "execution_count": 113,
   "id": "5d7f457e",
   "metadata": {},
   "outputs": [
    {
     "name": "stdout",
     "output_type": "stream",
     "text": [
      "WARNING:tensorflow:Using a while_loop for converting IO>AudioResample cause there is no registered converter for this op.\n"
     ]
    },
    {
     "name": "stderr",
     "output_type": "stream",
     "text": [
      "WARNING:tensorflow:Using a while_loop for converting IO>AudioResample cause there is no registered converter for this op.\n"
     ]
    },
    {
     "data": {
      "text/html": [
       "\n",
       "                <audio  controls=\"controls\" >\n",
       "                    <source src=\"data:audio/wav;base64,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\" type=\"audio/wav\" />\n",
       "                    Your browser does not support the audio element.\n",
       "                </audio>\n",
       "              "
      ],
      "text/plain": [
       "<IPython.lib.display.Audio object>"
      ]
     },
     "execution_count": 113,
     "metadata": {},
     "output_type": "execute_result"
    },
    {
     "data": {
      "image/png": "[encoded data removed]",
      "text/plain": [
       "<Figure size 640x480 with 1 Axes>"
      ]
     },
     "metadata": {},
     "output_type": "display_data"
    }
   ],
   "source": [
    "testing_wav_data =  load_wav_16k_mono('T:\\IDMT-SMT-CHORDS\\IDMT-SMT-CHORDS\\C.wav')\n",
    "\n",
    "_ = plt.plot(testing_wav_data)\n",
    "\n",
    "# Play the audio file.\n",
    "display.Audio(testing_wav_data, rate=16000)\n"
   ]
  },
  {
   "cell_type": "code",
   "execution_count": 114,
   "id": "0ff7567b",
   "metadata": {},
   "outputs": [
    {
     "name": "stdout",
     "output_type": "stream",
     "text": [
      "WARNING:tensorflow:Using a while_loop for converting IO>AudioResample cause there is no registered converter for this op.\n"
     ]
    },
    {
     "name": "stderr",
     "output_type": "stream",
     "text": [
      "WARNING:tensorflow:Using a while_loop for converting IO>AudioResample cause there is no registered converter for this op.\n"
     ]
    }
   ],
   "source": [
    "def load_wav_for_map(filename, label):\n",
    "  return load_wav_16k_mono(filename), label\n",
    "\n",
    "train_ds = train_ds.map(load_wav_for_map)\n",
    "test_ds = test_ds.map(load_wav_for_map)\n"
   ]
  },
  {
   "cell_type": "code",
   "execution_count": 115,
   "id": "14cc184a",
   "metadata": {},
   "outputs": [],
   "source": [
    "# applies the embedding extraction model to a wav data\n",
    "def extract_embedding(wav_data, label):\n",
    "  ''' run Vggish to extract embedding from the wav data '''\n",
    "  embeddings = vgg_model(wav_data)\n",
    "  num_embeddings = tf.shape(embeddings)[0]\n",
    "  return (embeddings,\n",
    "            tf.repeat(label, num_embeddings))\n",
    "\n",
    "train_ds = train_ds.map(extract_embedding).unbatch()\n",
    "test_ds = test_ds.map(extract_embedding).unbatch()"
   ]
  },
  {
   "cell_type": "code",
   "execution_count": 119,
   "id": "1a70553e",
   "metadata": {},
   "outputs": [],
   "source": [
    "val_ds, test_ds =  tf.keras.utils.split_dataset(test_ds, left_size=0.5)"
   ]
  },
  {
   "cell_type": "code",
   "execution_count": 120,
   "id": "e33f51d8",
   "metadata": {},
   "outputs": [],
   "source": [
    "train_ds = train_ds.cache().shuffle(1000).batch(64).prefetch(tf.data.AUTOTUNE)\n",
    "test_ds = test_ds.cache().batch(64).prefetch(tf.data.AUTOTUNE)\n",
    "val_ds = val_ds.cache().batch(64).prefetch(tf.data.AUTOTUNE)"
   ]
  },
  {
   "cell_type": "code",
   "execution_count": null,
   "id": "85741490",
   "metadata": {},
   "outputs": [],
   "source": []
  },
  {
   "cell_type": "code",
   "execution_count": 121,
   "id": "424bce0e",
   "metadata": {},
   "outputs": [
    {
     "data": {
      "text/plain": [
       "<PrefetchDataset element_spec=(TensorSpec(shape=(None, 128), dtype=tf.float32, name=None), TensorSpec(shape=(None,), dtype=tf.int32, name=None))>"
      ]
     },
     "execution_count": 121,
     "metadata": {},
     "output_type": "execute_result"
    }
   ],
   "source": [
    "train_ds"
   ]
  },
  {
   "cell_type": "code",
   "execution_count": 122,
   "id": "f2753929",
   "metadata": {},
   "outputs": [
    {
     "data": {
      "text/plain": [
       "<PrefetchDataset element_spec=(TensorSpec(shape=(None, 128), dtype=tf.float32, name=None), TensorSpec(shape=(None,), dtype=tf.int32, name=None))>"
      ]
     },
     "execution_count": 122,
     "metadata": {},
     "output_type": "execute_result"
    }
   ],
   "source": [
    "test_ds"
   ]
  },
  {
   "cell_type": "code",
   "execution_count": 123,
   "id": "d2d9ebc2",
   "metadata": {},
   "outputs": [
    {
     "data": {
      "text/plain": [
       "<PrefetchDataset element_spec=(TensorSpec(shape=(None, 128), dtype=tf.float32, name=None), TensorSpec(shape=(None,), dtype=tf.int32, name=None))>"
      ]
     },
     "execution_count": 123,
     "metadata": {},
     "output_type": "execute_result"
    }
   ],
   "source": [
    "val_ds"
   ]
  },
  {
   "cell_type": "code",
   "execution_count": 77,
   "id": "a61260f2",
   "metadata": {},
   "outputs": [
    {
     "name": "stdout",
     "output_type": "stream",
     "text": [
      "Requirement already satisfied: keras_tuner in t:\\anaconda\\lib\\site-packages (1.3.0)\n",
      "Requirement already satisfied: tensorflow>=2.0 in t:\\anaconda\\lib\\site-packages (from keras_tuner) (2.11.0)\n",
      "Requirement already satisfied: requests in t:\\anaconda\\lib\\site-packages (from keras_tuner) (2.28.1)\n",
      "Requirement already satisfied: kt-legacy in t:\\anaconda\\lib\\site-packages (from keras_tuner) (1.0.4)\n",
      "Requirement already satisfied: packaging in t:\\anaconda\\lib\\site-packages (from keras_tuner) (21.3)\n",
      "Requirement already satisfied: ipython in t:\\anaconda\\lib\\site-packages (from keras_tuner) (7.31.1)\n",
      "Requirement already satisfied: tensorflow-intel==2.11.0 in t:\\anaconda\\lib\\site-packages (from tensorflow>=2.0->keras_tuner) (2.11.0)\n",
      "Requirement already satisfied: tensorflow-estimator<2.12,>=2.11.0 in t:\\anaconda\\lib\\site-packages (from tensorflow-intel==2.11.0->tensorflow>=2.0->keras_tuner) (2.11.0)\n",
      "Requirement already satisfied: keras<2.12,>=2.11.0 in t:\\anaconda\\lib\\site-packages (from tensorflow-intel==2.11.0->tensorflow>=2.0->keras_tuner) (2.11.0)\n",
      "Requirement already satisfied: absl-py>=1.0.0 in t:\\anaconda\\lib\\site-packages (from tensorflow-intel==2.11.0->tensorflow>=2.0->keras_tuner) (1.4.0)\n",
      "Requirement already satisfied: flatbuffers>=2.0 in t:\\anaconda\\lib\\site-packages (from tensorflow-intel==2.11.0->tensorflow>=2.0->keras_tuner) (23.3.3)\n",
      "Requirement already satisfied: setuptools in t:\\anaconda\\lib\\site-packages (from tensorflow-intel==2.11.0->tensorflow>=2.0->keras_tuner) (63.4.1)\n",
      "Requirement already satisfied: astunparse>=1.6.0 in t:\\anaconda\\lib\\site-packages (from tensorflow-intel==2.11.0->tensorflow>=2.0->keras_tuner) (1.6.3)\n",
      "Requirement already satisfied: protobuf<3.20,>=3.9.2 in t:\\anaconda\\lib\\site-packages (from tensorflow-intel==2.11.0->tensorflow>=2.0->keras_tuner) (3.19.6)\n",
      "Requirement already satisfied: google-pasta>=0.1.1 in t:\\anaconda\\lib\\site-packages (from tensorflow-intel==2.11.0->tensorflow>=2.0->keras_tuner) (0.2.0)\n",
      "Requirement already satisfied: termcolor>=1.1.0 in t:\\anaconda\\lib\\site-packages (from tensorflow-intel==2.11.0->tensorflow>=2.0->keras_tuner) (2.2.0)\n",
      "Requirement already satisfied: tensorflow-io-gcs-filesystem>=0.23.1 in t:\\anaconda\\lib\\site-packages (from tensorflow-intel==2.11.0->tensorflow>=2.0->keras_tuner) (0.28.0)\n",
      "Requirement already satisfied: tensorboard<2.12,>=2.11 in t:\\anaconda\\lib\\site-packages (from tensorflow-intel==2.11.0->tensorflow>=2.0->keras_tuner) (2.11.2)\n",
      "Requirement already satisfied: six>=1.12.0 in t:\\anaconda\\lib\\site-packages (from tensorflow-intel==2.11.0->tensorflow>=2.0->keras_tuner) (1.16.0)\n",
      "Requirement already satisfied: wrapt>=1.11.0 in t:\\anaconda\\lib\\site-packages (from tensorflow-intel==2.11.0->tensorflow>=2.0->keras_tuner) (1.14.1)\n",
      "Requirement already satisfied: libclang>=13.0.0 in t:\\anaconda\\lib\\site-packages (from tensorflow-intel==2.11.0->tensorflow>=2.0->keras_tuner) (15.0.6.1)\n",
      "Requirement already satisfied: opt-einsum>=2.3.2 in t:\\anaconda\\lib\\site-packages (from tensorflow-intel==2.11.0->tensorflow>=2.0->keras_tuner) (3.3.0)\n",
      "Requirement already satisfied: h5py>=2.9.0 in t:\\anaconda\\lib\\site-packages (from tensorflow-intel==2.11.0->tensorflow>=2.0->keras_tuner) (3.7.0)\n",
      "Requirement already satisfied: typing-extensions>=3.6.6 in t:\\anaconda\\lib\\site-packages (from tensorflow-intel==2.11.0->tensorflow>=2.0->keras_tuner) (4.3.0)\n",
      "Requirement already satisfied: gast<=0.4.0,>=0.2.1 in t:\\anaconda\\lib\\site-packages (from tensorflow-intel==2.11.0->tensorflow>=2.0->keras_tuner) (0.4.0)\n",
      "Requirement already satisfied: numpy>=1.20 in t:\\anaconda\\lib\\site-packages (from tensorflow-intel==2.11.0->tensorflow>=2.0->keras_tuner) (1.21.5)\n",
      "Requirement already satisfied: grpcio<2.0,>=1.24.3 in t:\\anaconda\\lib\\site-packages (from tensorflow-intel==2.11.0->tensorflow>=2.0->keras_tuner) (1.51.3)\n",
      "Requirement already satisfied: jedi>=0.16 in t:\\anaconda\\lib\\site-packages (from ipython->keras_tuner) (0.18.1)\n",
      "Requirement already satisfied: decorator in t:\\anaconda\\lib\\site-packages (from ipython->keras_tuner) (5.1.1)\n",
      "Requirement already satisfied: traitlets>=4.2 in t:\\anaconda\\lib\\site-packages (from ipython->keras_tuner) (5.1.1)\n",
      "Requirement already satisfied: prompt-toolkit!=3.0.0,!=3.0.1,<3.1.0,>=2.0.0 in t:\\anaconda\\lib\\site-packages (from ipython->keras_tuner) (3.0.20)\n",
      "Requirement already satisfied: backcall in t:\\anaconda\\lib\\site-packages (from ipython->keras_tuner) (0.2.0)\n",
      "Requirement already satisfied: matplotlib-inline in t:\\anaconda\\lib\\site-packages (from ipython->keras_tuner) (0.1.6)\n",
      "Requirement already satisfied: pickleshare in t:\\anaconda\\lib\\site-packages (from ipython->keras_tuner) (0.7.5)\n",
      "Requirement already satisfied: pygments in t:\\anaconda\\lib\\site-packages (from ipython->keras_tuner) (2.11.2)\n",
      "Requirement already satisfied: colorama in t:\\anaconda\\lib\\site-packages (from ipython->keras_tuner) (0.4.5)\n",
      "Requirement already satisfied: pyparsing!=3.0.5,>=2.0.2 in t:\\anaconda\\lib\\site-packages (from packaging->keras_tuner) (3.0.9)\n",
      "Requirement already satisfied: charset-normalizer<3,>=2 in t:\\anaconda\\lib\\site-packages (from requests->keras_tuner) (2.0.4)\n",
      "Requirement already satisfied: certifi>=2017.4.17 in t:\\anaconda\\lib\\site-packages (from requests->keras_tuner) (2022.9.14)\n",
      "Requirement already satisfied: idna<4,>=2.5 in t:\\anaconda\\lib\\site-packages (from requests->keras_tuner) (3.3)\n",
      "Requirement already satisfied: urllib3<1.27,>=1.21.1 in t:\\anaconda\\lib\\site-packages (from requests->keras_tuner) (1.26.11)\n",
      "Requirement already satisfied: parso<0.9.0,>=0.8.0 in t:\\anaconda\\lib\\site-packages (from jedi>=0.16->ipython->keras_tuner) (0.8.3)\n",
      "Requirement already satisfied: wcwidth in t:\\anaconda\\lib\\site-packages (from prompt-toolkit!=3.0.0,!=3.0.1,<3.1.0,>=2.0.0->ipython->keras_tuner) (0.2.5)\n",
      "Requirement already satisfied: wheel<1.0,>=0.23.0 in t:\\anaconda\\lib\\site-packages (from astunparse>=1.6.0->tensorflow-intel==2.11.0->tensorflow>=2.0->keras_tuner) (0.37.1)\n",
      "Requirement already satisfied: tensorboard-plugin-wit>=1.6.0 in t:\\anaconda\\lib\\site-packages (from tensorboard<2.12,>=2.11->tensorflow-intel==2.11.0->tensorflow>=2.0->keras_tuner) (1.8.1)\n",
      "Requirement already satisfied: werkzeug>=1.0.1 in t:\\anaconda\\lib\\site-packages (from tensorboard<2.12,>=2.11->tensorflow-intel==2.11.0->tensorflow>=2.0->keras_tuner) (2.0.3)\n",
      "Requirement already satisfied: tensorboard-data-server<0.7.0,>=0.6.0 in t:\\anaconda\\lib\\site-packages (from tensorboard<2.12,>=2.11->tensorflow-intel==2.11.0->tensorflow>=2.0->keras_tuner) (0.6.1)\n",
      "Requirement already satisfied: markdown>=2.6.8 in t:\\anaconda\\lib\\site-packages (from tensorboard<2.12,>=2.11->tensorflow-intel==2.11.0->tensorflow>=2.0->keras_tuner) (3.3.4)\n",
      "Requirement already satisfied: google-auth-oauthlib<0.5,>=0.4.1 in t:\\anaconda\\lib\\site-packages (from tensorboard<2.12,>=2.11->tensorflow-intel==2.11.0->tensorflow>=2.0->keras_tuner) (0.4.6)\n",
      "Requirement already satisfied: google-auth<3,>=1.6.3 in t:\\anaconda\\lib\\site-packages (from tensorboard<2.12,>=2.11->tensorflow-intel==2.11.0->tensorflow>=2.0->keras_tuner) (2.16.2)\n",
      "Requirement already satisfied: rsa<5,>=3.1.4 in t:\\anaconda\\lib\\site-packages (from google-auth<3,>=1.6.3->tensorboard<2.12,>=2.11->tensorflow-intel==2.11.0->tensorflow>=2.0->keras_tuner) (4.9)\n",
      "Requirement already satisfied: cachetools<6.0,>=2.0.0 in t:\\anaconda\\lib\\site-packages (from google-auth<3,>=1.6.3->tensorboard<2.12,>=2.11->tensorflow-intel==2.11.0->tensorflow>=2.0->keras_tuner) (5.3.0)\n",
      "Requirement already satisfied: pyasn1-modules>=0.2.1 in t:\\anaconda\\lib\\site-packages (from google-auth<3,>=1.6.3->tensorboard<2.12,>=2.11->tensorflow-intel==2.11.0->tensorflow>=2.0->keras_tuner) (0.2.8)\n",
      "Requirement already satisfied: requests-oauthlib>=0.7.0 in t:\\anaconda\\lib\\site-packages (from google-auth-oauthlib<0.5,>=0.4.1->tensorboard<2.12,>=2.11->tensorflow-intel==2.11.0->tensorflow>=2.0->keras_tuner) (1.3.1)\n",
      "Requirement already satisfied: pyasn1<0.5.0,>=0.4.6 in t:\\anaconda\\lib\\site-packages (from pyasn1-modules>=0.2.1->google-auth<3,>=1.6.3->tensorboard<2.12,>=2.11->tensorflow-intel==2.11.0->tensorflow>=2.0->keras_tuner) (0.4.8)\n",
      "Requirement already satisfied: oauthlib>=3.0.0 in t:\\anaconda\\lib\\site-packages (from requests-oauthlib>=0.7.0->google-auth-oauthlib<0.5,>=0.4.1->tensorboard<2.12,>=2.11->tensorflow-intel==2.11.0->tensorflow>=2.0->keras_tuner) (3.2.2)\n"
     ]
    }
   ],
   "source": [
    "!pip install keras_tuner"
   ]
  },
  {
   "cell_type": "code",
   "execution_count": 124,
   "id": "85cf1e98",
   "metadata": {},
   "outputs": [],
   "source": [
    "classes = [\"Am\",\"Bb\",\"Bdim\",\"C\",\"Dm\",\"Em\",\"F\",\"G\"]"
   ]
  },
  {
   "cell_type": "code",
   "execution_count": 125,
   "id": "575338ed",
   "metadata": {},
   "outputs": [],
   "source": [
    "import keras_tuner\n",
    "\n",
    "def model_builder(hp):\n",
    "  model = tf.keras.Sequential()\n",
    "  model.add(tf.keras.layers.Input(shape=(128), dtype=tf.float32))\n",
    "\n",
    "  # Tune the number of units in the first Dense layer\n",
    "  # Choose an optimal value between 32-512\n",
    "  hp_units = hp.Int('units', min_value=32, max_value=512, step=32)\n",
    "  model.add(tf.keras.layers.Dense(units=hp_units, activation='relu'))\n",
    "  model.add(tf.keras.layers.Dense(len(classes)))\n",
    "\n",
    "  # Tune the learning rate for the optimizer\n",
    "  # Choose an optimal value from 0.01, 0.001, or 0.0001\n",
    "  hp_learning_rate = hp.Choice('learning_rate', values=[1e-2, 1e-3, 1e-4])\n",
    "\n",
    "  model.compile(optimizer=tf.keras.optimizers.Adam(learning_rate=hp_learning_rate),\n",
    "                loss=tf.keras.losses.SparseCategoricalCrossentropy(from_logits=True),\n",
    "                metrics=['accuracy'])\n",
    "\n",
    "  return model"
   ]
  },
  {
   "cell_type": "code",
   "execution_count": 126,
   "id": "d211ed65",
   "metadata": {},
   "outputs": [
    {
     "name": "stdout",
     "output_type": "stream",
     "text": [
      "INFO:tensorflow:Reloading Tuner from .\\tuning_attempt\\tuner0.json\n"
     ]
    },
    {
     "name": "stderr",
     "output_type": "stream",
     "text": [
      "INFO:tensorflow:Reloading Tuner from .\\tuning_attempt\\tuner0.json\n"
     ]
    }
   ],
   "source": [
    "tuner = keras_tuner.Hyperband(model_builder,\n",
    "                             objective='val_accuracy',\n",
    "                             max_epochs=10,\n",
    "                             factor=3,\n",
    "                             project_name='tuning_attempt')"
   ]
  },
  {
   "cell_type": "code",
   "execution_count": 127,
   "id": "d5a5438e",
   "metadata": {},
   "outputs": [],
   "source": [
    "stop_early = tf.keras.callbacks.EarlyStopping(monitor='val_loss', patience=5)"
   ]
  },
  {
   "cell_type": "code",
   "execution_count": 128,
   "id": "fda158cf",
   "metadata": {},
   "outputs": [
    {
     "name": "stdout",
     "output_type": "stream",
     "text": [
      "INFO:tensorflow:Oracle triggered exit\n"
     ]
    },
    {
     "name": "stderr",
     "output_type": "stream",
     "text": [
      "INFO:tensorflow:Oracle triggered exit\n"
     ]
    },
    {
     "name": "stdout",
     "output_type": "stream",
     "text": [
      "\n",
      "The hyperparameter search is complete. The optimal number of units in the first densely-connected\n",
      "layer is 32 and the optimal learning rate for the optimizer\n",
      "is 0.0001.\n",
      "\n"
     ]
    }
   ],
   "source": [
    "tuner.search(train_ds, epochs=50, validation_data=val_ds, callbacks=[stop_early])\n",
    "\n",
    "# Get the optimal hyperparameters\n",
    "best_hps=tuner.get_best_hyperparameters(num_trials=1)[0]\n",
    "\n",
    "print(f\"\"\"\n",
    "The hyperparameter search is complete. The optimal number of units in the first densely-connected\n",
    "layer is {best_hps.get('units')} and the optimal learning rate for the optimizer\n",
    "is {best_hps.get('learning_rate')}.\n",
    "\"\"\")\n"
   ]
  },
  {
   "cell_type": "code",
   "execution_count": 143,
   "id": "21c35321",
   "metadata": {},
   "outputs": [
    {
     "name": "stdout",
     "output_type": "stream",
     "text": [
      "Model: \"my_model\"\n",
      "_________________________________________________________________\n",
      " Layer (type)                Output Shape              Param #   \n",
      "=================================================================\n",
      " dense_16 (Dense)            (None, 1024)              132096    \n",
      "                                                                 \n",
      " dense_17 (Dense)            (None, 8)                 8200      \n",
      "                                                                 \n",
      "=================================================================\n",
      "Total params: 140,296\n",
      "Trainable params: 140,296\n",
      "Non-trainable params: 0\n",
      "_________________________________________________________________\n"
     ]
    }
   ],
   "source": [
    "my_model = tf.keras.Sequential([\n",
    "    tf.keras.layers.Input(shape=(128), dtype=tf.float32,\n",
    "                          name='input_embedding'),\n",
    "    tf.keras.layers.Dense(1024, activation='relu'),\n",
    "    tf.keras.layers.Dense(len(classes))\n",
    "], name='my_model')\n",
    "\n",
    "my_model.summary()"
   ]
  },
  {
   "cell_type": "code",
   "execution_count": 144,
   "id": "4d4bffc8",
   "metadata": {},
   "outputs": [],
   "source": [
    "optimizer = tf.keras.optimizers.Adam(learning_rate=0.0001)\n",
    "my_model.compile(loss=tf.keras.losses.SparseCategoricalCrossentropy(from_logits=True),\n",
    "                 optimizer=optimizer,\n",
    "                 metrics=['accuracy'])\n",
    "\n",
    "callback = tf.keras.callbacks.EarlyStopping(monitor='loss',\n",
    "                                            patience=5,\n",
    "                                            restore_best_weights=True)\n"
   ]
  },
  {
   "cell_type": "code",
   "execution_count": 145,
   "id": "47964798",
   "metadata": {},
   "outputs": [
    {
     "name": "stdout",
     "output_type": "stream",
     "text": [
      "Epoch 1/100\n",
      "121/121 [==============================] - 0s 2ms/step - loss: 2.2220 - accuracy: 0.1411 - val_loss: 2.3815 - val_accuracy: 0.0000e+00\n",
      "Epoch 2/100\n",
      "121/121 [==============================] - 0s 1ms/step - loss: 2.2189 - accuracy: 0.0957 - val_loss: 2.3157 - val_accuracy: 0.0000e+00\n",
      "Epoch 3/100\n",
      "121/121 [==============================] - 0s 1ms/step - loss: 2.1815 - accuracy: 0.0999 - val_loss: 2.2750 - val_accuracy: 0.0000e+00\n",
      "Epoch 4/100\n",
      "121/121 [==============================] - 0s 1ms/step - loss: 2.1560 - accuracy: 0.1121 - val_loss: 2.2444 - val_accuracy: 0.0014\n",
      "Epoch 5/100\n",
      "121/121 [==============================] - 0s 1ms/step - loss: 2.1346 - accuracy: 0.1148 - val_loss: 2.2198 - val_accuracy: 0.0014\n",
      "Epoch 6/100\n",
      "121/121 [==============================] - 0s 1ms/step - loss: 2.1180 - accuracy: 0.1227 - val_loss: 2.1986 - val_accuracy: 0.0056\n",
      "Epoch 7/100\n",
      "121/121 [==============================] - 0s 1ms/step - loss: 2.1059 - accuracy: 0.1275 - val_loss: 2.1841 - val_accuracy: 0.0084\n",
      "Epoch 8/100\n",
      "121/121 [==============================] - 0s 1ms/step - loss: 2.0925 - accuracy: 0.1386 - val_loss: 2.1685 - val_accuracy: 0.0097\n",
      "Epoch 9/100\n",
      "121/121 [==============================] - 0s 1ms/step - loss: 2.0823 - accuracy: 0.1413 - val_loss: 2.1571 - val_accuracy: 0.0111\n",
      "Epoch 10/100\n",
      "121/121 [==============================] - 0s 1ms/step - loss: 2.0728 - accuracy: 0.1571 - val_loss: 2.1424 - val_accuracy: 0.0209\n",
      "Epoch 11/100\n",
      "121/121 [==============================] - 0s 1ms/step - loss: 2.0625 - accuracy: 0.1607 - val_loss: 2.1343 - val_accuracy: 0.0237\n",
      "Epoch 12/100\n",
      "121/121 [==============================] - 0s 1ms/step - loss: 2.0571 - accuracy: 0.1676 - val_loss: 2.1240 - val_accuracy: 0.0320\n",
      "Epoch 13/100\n",
      "121/121 [==============================] - 0s 1ms/step - loss: 2.0490 - accuracy: 0.1686 - val_loss: 2.1161 - val_accuracy: 0.0390\n",
      "Epoch 14/100\n",
      "121/121 [==============================] - 0s 1ms/step - loss: 2.0429 - accuracy: 0.1746 - val_loss: 2.1086 - val_accuracy: 0.0432\n",
      "Epoch 15/100\n",
      "121/121 [==============================] - 0s 1ms/step - loss: 2.0361 - accuracy: 0.1872 - val_loss: 2.1016 - val_accuracy: 0.0460\n",
      "Epoch 16/100\n",
      "121/121 [==============================] - 0s 1ms/step - loss: 2.0274 - accuracy: 0.1936 - val_loss: 2.0965 - val_accuracy: 0.0543\n",
      "Epoch 17/100\n",
      "121/121 [==============================] - 0s 1ms/step - loss: 2.0223 - accuracy: 0.1942 - val_loss: 2.0904 - val_accuracy: 0.0613\n",
      "Epoch 18/100\n",
      "121/121 [==============================] - 0s 1ms/step - loss: 2.0157 - accuracy: 0.2003 - val_loss: 2.0836 - val_accuracy: 0.0794\n",
      "Epoch 19/100\n",
      "121/121 [==============================] - 0s 1ms/step - loss: 2.0089 - accuracy: 0.1990 - val_loss: 2.0789 - val_accuracy: 0.0850\n",
      "Epoch 20/100\n",
      "121/121 [==============================] - 0s 1ms/step - loss: 2.0034 - accuracy: 0.2065 - val_loss: 2.0725 - val_accuracy: 0.1114\n",
      "Epoch 21/100\n",
      "121/121 [==============================] - 0s 1ms/step - loss: 1.9968 - accuracy: 0.2118 - val_loss: 2.0692 - val_accuracy: 0.1198\n",
      "Epoch 22/100\n",
      "121/121 [==============================] - 0s 1ms/step - loss: 1.9911 - accuracy: 0.2162 - val_loss: 2.0645 - val_accuracy: 0.1156\n",
      "Epoch 23/100\n",
      "121/121 [==============================] - 0s 1ms/step - loss: 1.9837 - accuracy: 0.2203 - val_loss: 2.0598 - val_accuracy: 0.1281\n",
      "Epoch 24/100\n",
      "121/121 [==============================] - 0s 1ms/step - loss: 1.9752 - accuracy: 0.2246 - val_loss: 2.0582 - val_accuracy: 0.1351\n",
      "Epoch 25/100\n",
      "121/121 [==============================] - 0s 1ms/step - loss: 1.9709 - accuracy: 0.2268 - val_loss: 2.0521 - val_accuracy: 0.1407\n",
      "Epoch 26/100\n",
      "121/121 [==============================] - 0s 1ms/step - loss: 1.9652 - accuracy: 0.2358 - val_loss: 2.0494 - val_accuracy: 0.1462\n",
      "Epoch 27/100\n",
      "121/121 [==============================] - 0s 1ms/step - loss: 1.9594 - accuracy: 0.2353 - val_loss: 2.0438 - val_accuracy: 0.1588\n",
      "Epoch 28/100\n",
      "121/121 [==============================] - 0s 1ms/step - loss: 1.9539 - accuracy: 0.2463 - val_loss: 2.0411 - val_accuracy: 0.1616\n",
      "Epoch 29/100\n",
      "121/121 [==============================] - 0s 1ms/step - loss: 1.9473 - accuracy: 0.2475 - val_loss: 2.0396 - val_accuracy: 0.1643\n",
      "Epoch 30/100\n",
      "121/121 [==============================] - 0s 1ms/step - loss: 1.9408 - accuracy: 0.2461 - val_loss: 2.0344 - val_accuracy: 0.1727\n",
      "Epoch 31/100\n",
      "121/121 [==============================] - 0s 1ms/step - loss: 1.9362 - accuracy: 0.2527 - val_loss: 2.0316 - val_accuracy: 0.1811\n",
      "Epoch 32/100\n",
      "121/121 [==============================] - 0s 1ms/step - loss: 1.9303 - accuracy: 0.2547 - val_loss: 2.0298 - val_accuracy: 0.1852\n",
      "Epoch 33/100\n",
      "121/121 [==============================] - 0s 1ms/step - loss: 1.9250 - accuracy: 0.2591 - val_loss: 2.0285 - val_accuracy: 0.1866\n",
      "Epoch 34/100\n",
      "121/121 [==============================] - 0s 1ms/step - loss: 1.9189 - accuracy: 0.2627 - val_loss: 2.0238 - val_accuracy: 0.1880\n",
      "Epoch 35/100\n",
      "121/121 [==============================] - 0s 1ms/step - loss: 1.9158 - accuracy: 0.2656 - val_loss: 2.0206 - val_accuracy: 0.1950\n",
      "Epoch 36/100\n",
      "121/121 [==============================] - 0s 1ms/step - loss: 1.9082 - accuracy: 0.2710 - val_loss: 2.0204 - val_accuracy: 0.1978\n",
      "Epoch 37/100\n",
      "121/121 [==============================] - 0s 1ms/step - loss: 1.9047 - accuracy: 0.2695 - val_loss: 2.0162 - val_accuracy: 0.1978\n",
      "Epoch 38/100\n",
      "121/121 [==============================] - 0s 1ms/step - loss: 1.8964 - accuracy: 0.2785 - val_loss: 2.0133 - val_accuracy: 0.2075\n",
      "Epoch 39/100\n",
      "121/121 [==============================] - 0s 1ms/step - loss: 1.8928 - accuracy: 0.2836 - val_loss: 2.0133 - val_accuracy: 0.2103\n",
      "Epoch 40/100\n",
      "121/121 [==============================] - 0s 1ms/step - loss: 1.8857 - accuracy: 0.2821 - val_loss: 2.0120 - val_accuracy: 0.2145\n",
      "Epoch 41/100\n",
      "121/121 [==============================] - 0s 1ms/step - loss: 1.8835 - accuracy: 0.2851 - val_loss: 2.0082 - val_accuracy: 0.2145\n",
      "Epoch 42/100\n",
      "121/121 [==============================] - 0s 1ms/step - loss: 1.8756 - accuracy: 0.2878 - val_loss: 2.0092 - val_accuracy: 0.2089\n",
      "Epoch 43/100\n",
      "121/121 [==============================] - 0s 1ms/step - loss: 1.8716 - accuracy: 0.2876 - val_loss: 2.0041 - val_accuracy: 0.2242\n",
      "Epoch 44/100\n",
      "121/121 [==============================] - 0s 1ms/step - loss: 1.8683 - accuracy: 0.2890 - val_loss: 2.0006 - val_accuracy: 0.2312\n",
      "Epoch 45/100\n",
      "121/121 [==============================] - 0s 1ms/step - loss: 1.8615 - accuracy: 0.2962 - val_loss: 2.0019 - val_accuracy: 0.2242\n",
      "Epoch 46/100\n",
      "121/121 [==============================] - 0s 1ms/step - loss: 1.8543 - accuracy: 0.3006 - val_loss: 2.0010 - val_accuracy: 0.2242\n",
      "Epoch 47/100\n",
      "121/121 [==============================] - 0s 1ms/step - loss: 1.8496 - accuracy: 0.3007 - val_loss: 1.9994 - val_accuracy: 0.2298\n",
      "Epoch 48/100\n",
      "121/121 [==============================] - 0s 1ms/step - loss: 1.8470 - accuracy: 0.3066 - val_loss: 1.9985 - val_accuracy: 0.2284\n",
      "Epoch 49/100\n",
      "121/121 [==============================] - 0s 1ms/step - loss: 1.8445 - accuracy: 0.3010 - val_loss: 1.9981 - val_accuracy: 0.2312\n",
      "Epoch 50/100\n",
      "121/121 [==============================] - 0s 1ms/step - loss: 1.8383 - accuracy: 0.3076 - val_loss: 1.9983 - val_accuracy: 0.2298\n",
      "Epoch 51/100\n",
      "121/121 [==============================] - 0s 1ms/step - loss: 1.8334 - accuracy: 0.3053 - val_loss: 1.9979 - val_accuracy: 0.2312\n",
      "Epoch 52/100\n",
      "121/121 [==============================] - 0s 1ms/step - loss: 1.8293 - accuracy: 0.3088 - val_loss: 1.9919 - val_accuracy: 0.2354\n",
      "Epoch 53/100\n",
      "121/121 [==============================] - 0s 1ms/step - loss: 1.8244 - accuracy: 0.3146 - val_loss: 1.9953 - val_accuracy: 0.2298\n",
      "Epoch 54/100\n",
      "121/121 [==============================] - 0s 1ms/step - loss: 1.8176 - accuracy: 0.3152 - val_loss: 1.9916 - val_accuracy: 0.2368\n",
      "Epoch 55/100\n",
      "121/121 [==============================] - 0s 1ms/step - loss: 1.8145 - accuracy: 0.3167 - val_loss: 1.9902 - val_accuracy: 0.2368\n",
      "Epoch 56/100\n",
      "121/121 [==============================] - 0s 1ms/step - loss: 1.8126 - accuracy: 0.3179 - val_loss: 1.9887 - val_accuracy: 0.2382\n",
      "Epoch 57/100\n",
      "121/121 [==============================] - 0s 1ms/step - loss: 1.8065 - accuracy: 0.3212 - val_loss: 1.9912 - val_accuracy: 0.2423\n"
     ]
    },
    {
     "name": "stdout",
     "output_type": "stream",
     "text": [
      "Epoch 58/100\n",
      "121/121 [==============================] - 0s 1ms/step - loss: 1.7993 - accuracy: 0.3291 - val_loss: 1.9898 - val_accuracy: 0.2493\n",
      "Epoch 59/100\n",
      "121/121 [==============================] - 0s 1ms/step - loss: 1.7975 - accuracy: 0.3265 - val_loss: 1.9868 - val_accuracy: 0.2465\n",
      "Epoch 60/100\n",
      "121/121 [==============================] - 0s 1ms/step - loss: 1.7919 - accuracy: 0.3324 - val_loss: 1.9872 - val_accuracy: 0.2479\n",
      "Epoch 61/100\n",
      "121/121 [==============================] - 0s 1ms/step - loss: 1.7885 - accuracy: 0.3333 - val_loss: 1.9837 - val_accuracy: 0.2521\n",
      "Epoch 62/100\n",
      "121/121 [==============================] - 0s 1ms/step - loss: 1.7847 - accuracy: 0.3341 - val_loss: 1.9814 - val_accuracy: 0.2535\n",
      "Epoch 63/100\n",
      "121/121 [==============================] - 0s 1ms/step - loss: 1.7787 - accuracy: 0.3376 - val_loss: 1.9857 - val_accuracy: 0.2535\n",
      "Epoch 64/100\n",
      "121/121 [==============================] - 0s 1ms/step - loss: 1.7754 - accuracy: 0.3441 - val_loss: 1.9833 - val_accuracy: 0.2577\n",
      "Epoch 65/100\n",
      "121/121 [==============================] - 0s 1ms/step - loss: 1.7659 - accuracy: 0.3451 - val_loss: 1.9822 - val_accuracy: 0.2549\n",
      "Epoch 66/100\n",
      "121/121 [==============================] - 0s 1ms/step - loss: 1.7678 - accuracy: 0.3425 - val_loss: 1.9776 - val_accuracy: 0.2591\n",
      "Epoch 67/100\n",
      "121/121 [==============================] - 0s 1ms/step - loss: 1.7633 - accuracy: 0.3441 - val_loss: 1.9741 - val_accuracy: 0.2660\n",
      "Epoch 68/100\n",
      "121/121 [==============================] - 0s 1ms/step - loss: 1.7586 - accuracy: 0.3407 - val_loss: 1.9746 - val_accuracy: 0.2674\n",
      "Epoch 69/100\n",
      "121/121 [==============================] - 0s 1ms/step - loss: 1.7531 - accuracy: 0.3485 - val_loss: 1.9781 - val_accuracy: 0.2660\n",
      "Epoch 70/100\n",
      "121/121 [==============================] - 0s 1ms/step - loss: 1.7505 - accuracy: 0.3540 - val_loss: 1.9735 - val_accuracy: 0.2716\n",
      "Epoch 71/100\n",
      "121/121 [==============================] - 0s 1ms/step - loss: 1.7438 - accuracy: 0.3542 - val_loss: 1.9737 - val_accuracy: 0.2730\n",
      "Epoch 72/100\n",
      "121/121 [==============================] - 0s 1ms/step - loss: 1.7418 - accuracy: 0.3560 - val_loss: 1.9703 - val_accuracy: 0.2799\n",
      "Epoch 73/100\n",
      "121/121 [==============================] - 0s 1ms/step - loss: 1.7345 - accuracy: 0.3554 - val_loss: 1.9716 - val_accuracy: 0.2841\n",
      "Epoch 74/100\n",
      "121/121 [==============================] - 0s 1ms/step - loss: 1.7287 - accuracy: 0.3618 - val_loss: 1.9710 - val_accuracy: 0.2744\n",
      "Epoch 75/100\n",
      "121/121 [==============================] - 0s 1ms/step - loss: 1.7285 - accuracy: 0.3593 - val_loss: 1.9716 - val_accuracy: 0.2813\n",
      "Epoch 76/100\n",
      "121/121 [==============================] - 0s 1ms/step - loss: 1.7250 - accuracy: 0.3615 - val_loss: 1.9681 - val_accuracy: 0.2897\n",
      "Epoch 77/100\n",
      "121/121 [==============================] - 0s 1ms/step - loss: 1.7206 - accuracy: 0.3666 - val_loss: 1.9657 - val_accuracy: 0.2925\n",
      "Epoch 78/100\n",
      "121/121 [==============================] - 0s 1ms/step - loss: 1.7156 - accuracy: 0.3677 - val_loss: 1.9695 - val_accuracy: 0.2869\n",
      "Epoch 79/100\n",
      "121/121 [==============================] - 0s 1ms/step - loss: 1.7149 - accuracy: 0.3598 - val_loss: 1.9658 - val_accuracy: 0.3008\n",
      "Epoch 80/100\n",
      "121/121 [==============================] - 0s 1ms/step - loss: 1.7085 - accuracy: 0.3715 - val_loss: 1.9670 - val_accuracy: 0.2939\n",
      "Epoch 81/100\n",
      "121/121 [==============================] - 0s 1ms/step - loss: 1.7070 - accuracy: 0.3735 - val_loss: 1.9624 - val_accuracy: 0.3064\n",
      "Epoch 82/100\n",
      "121/121 [==============================] - 0s 1ms/step - loss: 1.7008 - accuracy: 0.3724 - val_loss: 1.9629 - val_accuracy: 0.2994\n",
      "Epoch 83/100\n",
      "121/121 [==============================] - 0s 1ms/step - loss: 1.6977 - accuracy: 0.3754 - val_loss: 1.9614 - val_accuracy: 0.2994\n",
      "Epoch 84/100\n",
      "121/121 [==============================] - 0s 1ms/step - loss: 1.6927 - accuracy: 0.3754 - val_loss: 1.9659 - val_accuracy: 0.2939\n",
      "Epoch 85/100\n",
      "121/121 [==============================] - 0s 1ms/step - loss: 1.6851 - accuracy: 0.3841 - val_loss: 1.9666 - val_accuracy: 0.3022\n",
      "Epoch 86/100\n",
      "121/121 [==============================] - 0s 1ms/step - loss: 1.6889 - accuracy: 0.3782 - val_loss: 1.9639 - val_accuracy: 0.3106\n",
      "Epoch 87/100\n",
      "121/121 [==============================] - 0s 1ms/step - loss: 1.6791 - accuracy: 0.3873 - val_loss: 1.9632 - val_accuracy: 0.3022\n",
      "Epoch 88/100\n",
      "121/121 [==============================] - 0s 1ms/step - loss: 1.6766 - accuracy: 0.3862 - val_loss: 1.9629 - val_accuracy: 0.3078\n",
      "Epoch 89/100\n",
      "121/121 [==============================] - 0s 1ms/step - loss: 1.6752 - accuracy: 0.3888 - val_loss: 1.9660 - val_accuracy: 0.3050\n",
      "Epoch 90/100\n",
      "121/121 [==============================] - 0s 1ms/step - loss: 1.6689 - accuracy: 0.3902 - val_loss: 1.9601 - val_accuracy: 0.3120\n",
      "Epoch 91/100\n",
      "121/121 [==============================] - 0s 1ms/step - loss: 1.6634 - accuracy: 0.3882 - val_loss: 1.9686 - val_accuracy: 0.3036\n",
      "Epoch 92/100\n",
      "121/121 [==============================] - 0s 1ms/step - loss: 1.6586 - accuracy: 0.3916 - val_loss: 1.9636 - val_accuracy: 0.3050\n",
      "Epoch 93/100\n",
      "121/121 [==============================] - 0s 1ms/step - loss: 1.6572 - accuracy: 0.3949 - val_loss: 1.9612 - val_accuracy: 0.3078\n",
      "Epoch 94/100\n",
      "121/121 [==============================] - 0s 1ms/step - loss: 1.6521 - accuracy: 0.3905 - val_loss: 1.9597 - val_accuracy: 0.3148\n",
      "Epoch 95/100\n",
      "121/121 [==============================] - 0s 1ms/step - loss: 1.6493 - accuracy: 0.3998 - val_loss: 1.9627 - val_accuracy: 0.3078\n",
      "Epoch 96/100\n",
      "121/121 [==============================] - 0s 1ms/step - loss: 1.6476 - accuracy: 0.3953 - val_loss: 1.9566 - val_accuracy: 0.3162\n",
      "Epoch 97/100\n",
      "121/121 [==============================] - 0s 1ms/step - loss: 1.6445 - accuracy: 0.3958 - val_loss: 1.9580 - val_accuracy: 0.3189\n",
      "Epoch 98/100\n",
      "121/121 [==============================] - 0s 1ms/step - loss: 1.6424 - accuracy: 0.3971 - val_loss: 1.9599 - val_accuracy: 0.3148\n",
      "Epoch 99/100\n",
      "121/121 [==============================] - 0s 1ms/step - loss: 1.6379 - accuracy: 0.4066 - val_loss: 1.9605 - val_accuracy: 0.3175\n",
      "Epoch 100/100\n",
      "121/121 [==============================] - 0s 1ms/step - loss: 1.6321 - accuracy: 0.4035 - val_loss: 1.9639 - val_accuracy: 0.3162\n"
     ]
    }
   ],
   "source": [
    "history = my_model.fit(train_ds,\n",
    "                       epochs=100,\n",
    "                       validation_data=val_ds,\n",
    "                       callbacks=callback)\n"
   ]
  },
  {
   "cell_type": "code",
   "execution_count": 146,
   "id": "4b852358",
   "metadata": {},
   "outputs": [
    {
     "name": "stdout",
     "output_type": "stream",
     "text": [
      "12/12 [==============================] - 0s 847us/step - loss: 1.6900 - accuracy: 0.3908\n",
      "Loss:  1.6900261640548706\n",
      "Accuracy:  0.39082059264183044\n"
     ]
    }
   ],
   "source": [
    "loss, accuracy = my_model.evaluate(test_ds)\n",
    "\n",
    "print(\"Loss: \", loss)\n",
    "print(\"Accuracy: \", accuracy)\n"
   ]
  },
  {
   "cell_type": "code",
   "execution_count": 147,
   "id": "bc923c42",
   "metadata": {},
   "outputs": [
    {
     "data": {
      "image/png": "[encoded data removed]",
      "text/plain": [
       "<Figure size 800x500 with 1 Axes>"
      ]
     },
     "metadata": {},
     "output_type": "display_data"
    }
   ],
   "source": [
    "pd.DataFrame(history.history).plot(figsize=(8,5))\n",
    "plt.show()"
   ]
  },
  {
   "cell_type": "code",
   "execution_count": null,
   "id": "ecfaad32",
   "metadata": {},
   "outputs": [],
   "source": []
  }
 ],
 "metadata": {
  "kernelspec": {
   "display_name": "Final Year Project",
   "language": "python",
   "name": "tf-gpu"
  },
  "language_info": {
   "codemirror_mode": {
    "name": "ipython",
    "version": 3
   },
   "file_extension": ".py",
   "mimetype": "text/x-python",
   "name": "python",
   "nbconvert_exporter": "python",
   "pygments_lexer": "ipython3",
   "version": "3.9.13"
  }
 },
 "nbformat": 4,
 "nbformat_minor": 5
}
