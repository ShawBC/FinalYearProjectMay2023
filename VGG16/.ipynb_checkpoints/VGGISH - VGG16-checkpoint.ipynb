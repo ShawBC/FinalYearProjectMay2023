{
 "cells": [
  {
   "cell_type": "markdown",
   "id": "b377d90f",
   "metadata": {},
   "source": [
    "https://arxiv.org/abs/1609.09430\n",
    "https://tfhub.dev/google/vggish/1\n",
    "https://github.com/tensorflow/models/tree/master/research/audioset/vggish"
   ]
  },
  {
   "cell_type": "code",
   "execution_count": 6,
   "id": "bd7d1a15",
   "metadata": {},
   "outputs": [],
   "source": [
    "import os\n",
    "\n",
    "from IPython import display\n",
    "import matplotlib.pyplot as plt\n",
    "import numpy as np\n",
    "import pandas as pd\n",
    "\n",
    "import tensorflow as tf\n",
    "import tensorflow_hub as hub\n",
    "import tensorflow_io as tfio\n",
    "# Load the model.\n",
    "vgg_model = hub.load('https://tfhub.dev/google/vggish/1')\n",
    "\n",
    "# Input: 3 seconds of silence as mono 16 kHz waveform samples.\n",
    "waveform = np.zeros(3 * 16000, dtype=np.float32)\n",
    "\n",
    "# Run the model, check the output.\n",
    "embeddings = model(waveform)\n",
    "embeddings.shape.assert_is_compatible_with([None, 128])\n"
   ]
  },
  {
   "cell_type": "code",
   "execution_count": 76,
   "id": "b26138fd",
   "metadata": {},
   "outputs": [],
   "source": [
    "# Load in the csv file with targets ,labels, and filenames of all guitar chord wav files\n",
    "wav_df = pd.read_csv('T:\\IDMT-SMT-CHORDS\\IDMT-SMT-CHORDS\\chords_csv.csv')"
   ]
  },
  {
   "cell_type": "code",
   "execution_count": 80,
   "id": "45b2a7cc",
   "metadata": {},
   "outputs": [
    {
     "data": {
      "text/html": [
       "<div>\n",
       "<style scoped>\n",
       "    .dataframe tbody tr th:only-of-type {\n",
       "        vertical-align: middle;\n",
       "    }\n",
       "\n",
       "    .dataframe tbody tr th {\n",
       "        vertical-align: top;\n",
       "    }\n",
       "\n",
       "    .dataframe thead th {\n",
       "        text-align: right;\n",
       "    }\n",
       "</style>\n",
       "<table border=\"1\" class=\"dataframe\">\n",
       "  <thead>\n",
       "    <tr style=\"text-align: right;\">\n",
       "      <th></th>\n",
       "      <th>filenames</th>\n",
       "      <th>targets</th>\n",
       "      <th>labels</th>\n",
       "    </tr>\n",
       "  </thead>\n",
       "  <tbody>\n",
       "    <tr>\n",
       "      <th>0</th>\n",
       "      <td>T:\\IDMT-SMT-CHORDS\\IDMT-SMT-CHORDS\\guitar\\Test...</td>\n",
       "      <td>A#5</td>\n",
       "      <td>0</td>\n",
       "    </tr>\n",
       "    <tr>\n",
       "      <th>1</th>\n",
       "      <td>T:\\IDMT-SMT-CHORDS\\IDMT-SMT-CHORDS\\guitar\\Test...</td>\n",
       "      <td>A#5</td>\n",
       "      <td>0</td>\n",
       "    </tr>\n",
       "    <tr>\n",
       "      <th>2</th>\n",
       "      <td>T:\\IDMT-SMT-CHORDS\\IDMT-SMT-CHORDS\\guitar\\Test...</td>\n",
       "      <td>A#5</td>\n",
       "      <td>0</td>\n",
       "    </tr>\n",
       "    <tr>\n",
       "      <th>3</th>\n",
       "      <td>T:\\IDMT-SMT-CHORDS\\IDMT-SMT-CHORDS\\guitar\\Test...</td>\n",
       "      <td>A#7</td>\n",
       "      <td>1</td>\n",
       "    </tr>\n",
       "    <tr>\n",
       "      <th>4</th>\n",
       "      <td>T:\\IDMT-SMT-CHORDS\\IDMT-SMT-CHORDS\\guitar\\Test...</td>\n",
       "      <td>A#7</td>\n",
       "      <td>1</td>\n",
       "    </tr>\n",
       "    <tr>\n",
       "      <th>...</th>\n",
       "      <td>...</td>\n",
       "      <td>...</td>\n",
       "      <td>...</td>\n",
       "    </tr>\n",
       "    <tr>\n",
       "      <th>268</th>\n",
       "      <td>T:\\IDMT-SMT-CHORDS\\IDMT-SMT-CHORDS\\guitar\\Test...</td>\n",
       "      <td>Gmin7</td>\n",
       "      <td>83</td>\n",
       "    </tr>\n",
       "    <tr>\n",
       "      <th>269</th>\n",
       "      <td>T:\\IDMT-SMT-CHORDS\\IDMT-SMT-CHORDS\\guitar\\Test...</td>\n",
       "      <td>Gmin7</td>\n",
       "      <td>83</td>\n",
       "    </tr>\n",
       "    <tr>\n",
       "      <th>270</th>\n",
       "      <td>T:\\IDMT-SMT-CHORDS\\IDMT-SMT-CHORDS\\guitar\\Test...</td>\n",
       "      <td>Gmin</td>\n",
       "      <td>82</td>\n",
       "    </tr>\n",
       "    <tr>\n",
       "      <th>271</th>\n",
       "      <td>T:\\IDMT-SMT-CHORDS\\IDMT-SMT-CHORDS\\guitar\\Test...</td>\n",
       "      <td>Gmin</td>\n",
       "      <td>82</td>\n",
       "    </tr>\n",
       "    <tr>\n",
       "      <th>272</th>\n",
       "      <td>T:\\IDMT-SMT-CHORDS\\IDMT-SMT-CHORDS\\guitar\\Test...</td>\n",
       "      <td>Gmin</td>\n",
       "      <td>82</td>\n",
       "    </tr>\n",
       "  </tbody>\n",
       "</table>\n",
       "<p>273 rows × 3 columns</p>\n",
       "</div>"
      ],
      "text/plain": [
       "                                             filenames targets  labels\n",
       "0    T:\\IDMT-SMT-CHORDS\\IDMT-SMT-CHORDS\\guitar\\Test...     A#5       0\n",
       "1    T:\\IDMT-SMT-CHORDS\\IDMT-SMT-CHORDS\\guitar\\Test...     A#5       0\n",
       "2    T:\\IDMT-SMT-CHORDS\\IDMT-SMT-CHORDS\\guitar\\Test...     A#5       0\n",
       "3    T:\\IDMT-SMT-CHORDS\\IDMT-SMT-CHORDS\\guitar\\Test...     A#7       1\n",
       "4    T:\\IDMT-SMT-CHORDS\\IDMT-SMT-CHORDS\\guitar\\Test...     A#7       1\n",
       "..                                                 ...     ...     ...\n",
       "268  T:\\IDMT-SMT-CHORDS\\IDMT-SMT-CHORDS\\guitar\\Test...   Gmin7      83\n",
       "269  T:\\IDMT-SMT-CHORDS\\IDMT-SMT-CHORDS\\guitar\\Test...   Gmin7      83\n",
       "270  T:\\IDMT-SMT-CHORDS\\IDMT-SMT-CHORDS\\guitar\\Test...    Gmin      82\n",
       "271  T:\\IDMT-SMT-CHORDS\\IDMT-SMT-CHORDS\\guitar\\Test...    Gmin      82\n",
       "272  T:\\IDMT-SMT-CHORDS\\IDMT-SMT-CHORDS\\guitar\\Test...    Gmin      82\n",
       "\n",
       "[273 rows x 3 columns]"
      ]
     },
     "execution_count": 80,
     "metadata": {},
     "output_type": "execute_result"
    }
   ],
   "source": [
    "# Check that we've loaded everything that we need\n",
    "wav_df"
   ]
  },
  {
   "cell_type": "code",
   "execution_count": 87,
   "id": "141be9ad",
   "metadata": {},
   "outputs": [
    {
     "data": {
      "text/html": [
       "<div>\n",
       "<style scoped>\n",
       "    .dataframe tbody tr th:only-of-type {\n",
       "        vertical-align: middle;\n",
       "    }\n",
       "\n",
       "    .dataframe tbody tr th {\n",
       "        vertical-align: top;\n",
       "    }\n",
       "\n",
       "    .dataframe thead th {\n",
       "        text-align: right;\n",
       "    }\n",
       "</style>\n",
       "<table border=\"1\" class=\"dataframe\">\n",
       "  <thead>\n",
       "    <tr style=\"text-align: right;\">\n",
       "      <th></th>\n",
       "      <th>filenames</th>\n",
       "      <th>targets</th>\n",
       "      <th>labels</th>\n",
       "      <th>target</th>\n",
       "      <th>filename</th>\n",
       "    </tr>\n",
       "  </thead>\n",
       "  <tbody>\n",
       "    <tr>\n",
       "      <th>175</th>\n",
       "      <td>T:\\IDMT-SMT-CHORDS\\IDMT-SMT-CHORDS\\guitar\\Test...</td>\n",
       "      <td>Emaj</td>\n",
       "      <td>52</td>\n",
       "      <td>0</td>\n",
       "      <td>T:\\IDMT-SMT-CHORDS\\IDMT-SMT-CHORDS\\guitar\\Test...</td>\n",
       "    </tr>\n",
       "    <tr>\n",
       "      <th>176</th>\n",
       "      <td>T:\\IDMT-SMT-CHORDS\\IDMT-SMT-CHORDS\\guitar\\Test...</td>\n",
       "      <td>Emaj</td>\n",
       "      <td>52</td>\n",
       "      <td>0</td>\n",
       "      <td>T:\\IDMT-SMT-CHORDS\\IDMT-SMT-CHORDS\\guitar\\Test...</td>\n",
       "    </tr>\n",
       "    <tr>\n",
       "      <th>177</th>\n",
       "      <td>T:\\IDMT-SMT-CHORDS\\IDMT-SMT-CHORDS\\guitar\\Test...</td>\n",
       "      <td>Emaj</td>\n",
       "      <td>52</td>\n",
       "      <td>0</td>\n",
       "      <td>T:\\IDMT-SMT-CHORDS\\IDMT-SMT-CHORDS\\guitar\\Test...</td>\n",
       "    </tr>\n",
       "    <tr>\n",
       "      <th>178</th>\n",
       "      <td>T:\\IDMT-SMT-CHORDS\\IDMT-SMT-CHORDS\\guitar\\Test...</td>\n",
       "      <td>Emaj</td>\n",
       "      <td>52</td>\n",
       "      <td>0</td>\n",
       "      <td>T:\\IDMT-SMT-CHORDS\\IDMT-SMT-CHORDS\\guitar\\Test...</td>\n",
       "    </tr>\n",
       "    <tr>\n",
       "      <th>222</th>\n",
       "      <td>T:\\IDMT-SMT-CHORDS\\IDMT-SMT-CHORDS\\guitar\\Test...</td>\n",
       "      <td>Fmaj</td>\n",
       "      <td>66</td>\n",
       "      <td>1</td>\n",
       "      <td>T:\\IDMT-SMT-CHORDS\\IDMT-SMT-CHORDS\\guitar\\Test...</td>\n",
       "    </tr>\n",
       "    <tr>\n",
       "      <th>223</th>\n",
       "      <td>T:\\IDMT-SMT-CHORDS\\IDMT-SMT-CHORDS\\guitar\\Test...</td>\n",
       "      <td>Fmaj</td>\n",
       "      <td>66</td>\n",
       "      <td>1</td>\n",
       "      <td>T:\\IDMT-SMT-CHORDS\\IDMT-SMT-CHORDS\\guitar\\Test...</td>\n",
       "    </tr>\n",
       "    <tr>\n",
       "      <th>224</th>\n",
       "      <td>T:\\IDMT-SMT-CHORDS\\IDMT-SMT-CHORDS\\guitar\\Test...</td>\n",
       "      <td>Fmaj</td>\n",
       "      <td>66</td>\n",
       "      <td>1</td>\n",
       "      <td>T:\\IDMT-SMT-CHORDS\\IDMT-SMT-CHORDS\\guitar\\Test...</td>\n",
       "    </tr>\n",
       "  </tbody>\n",
       "</table>\n",
       "</div>"
      ],
      "text/plain": [
       "                                             filenames targets  labels  \\\n",
       "175  T:\\IDMT-SMT-CHORDS\\IDMT-SMT-CHORDS\\guitar\\Test...    Emaj      52   \n",
       "176  T:\\IDMT-SMT-CHORDS\\IDMT-SMT-CHORDS\\guitar\\Test...    Emaj      52   \n",
       "177  T:\\IDMT-SMT-CHORDS\\IDMT-SMT-CHORDS\\guitar\\Test...    Emaj      52   \n",
       "178  T:\\IDMT-SMT-CHORDS\\IDMT-SMT-CHORDS\\guitar\\Test...    Emaj      52   \n",
       "222  T:\\IDMT-SMT-CHORDS\\IDMT-SMT-CHORDS\\guitar\\Test...    Fmaj      66   \n",
       "223  T:\\IDMT-SMT-CHORDS\\IDMT-SMT-CHORDS\\guitar\\Test...    Fmaj      66   \n",
       "224  T:\\IDMT-SMT-CHORDS\\IDMT-SMT-CHORDS\\guitar\\Test...    Fmaj      66   \n",
       "\n",
       "     target                                           filename  \n",
       "175       0  T:\\IDMT-SMT-CHORDS\\IDMT-SMT-CHORDS\\guitar\\Test...  \n",
       "176       0  T:\\IDMT-SMT-CHORDS\\IDMT-SMT-CHORDS\\guitar\\Test...  \n",
       "177       0  T:\\IDMT-SMT-CHORDS\\IDMT-SMT-CHORDS\\guitar\\Test...  \n",
       "178       0  T:\\IDMT-SMT-CHORDS\\IDMT-SMT-CHORDS\\guitar\\Test...  \n",
       "222       1  T:\\IDMT-SMT-CHORDS\\IDMT-SMT-CHORDS\\guitar\\Test...  \n",
       "223       1  T:\\IDMT-SMT-CHORDS\\IDMT-SMT-CHORDS\\guitar\\Test...  \n",
       "224       1  T:\\IDMT-SMT-CHORDS\\IDMT-SMT-CHORDS\\guitar\\Test...  "
      ]
     },
     "execution_count": 87,
     "metadata": {},
     "output_type": "execute_result"
    }
   ],
   "source": [
    "# Create our label list\n",
    "IDMT_chords = [\"Emaj\",\"Fmaj\"]\n",
    "map_class_to_id = {\"Emaj\": 0,\"Fmaj\": 1}\n",
    "\n",
    "filtered_pd = wav_df[wav_df.targets.isin(IDMT_chords)]\n",
    "\n",
    "\n",
    "class_id = filtered_pd['targets'].apply(lambda name: map_class_to_id[name])\n",
    "filtered_pd = filtered_pd.assign(target=class_id)\n",
    "\n",
    "full_path = filtered_pd['filenames'].apply(lambda row: os.path.join(base_data_path, row))\n",
    "filtered_pd = filtered_pd.assign(filename=full_path)\n",
    "\n",
    "filtered_pd\n"
   ]
  },
  {
   "cell_type": "code",
   "execution_count": 90,
   "id": "8a089261",
   "metadata": {},
   "outputs": [
    {
     "name": "stdout",
     "output_type": "stream",
     "text": [
      "We have 6 training samples & 1 validation ones\n"
     ]
    }
   ],
   "source": [
    "split = int(len(filtered_pd) * (1-0.1))\n",
    "train_df = filtered_pd[:split]\n",
    "val_df = filtered_pd[split:]\n",
    "print(\n",
    "    f\"We have {train_df.shape[0]} training samples & {val_df.shape[0]} validation ones\"\n",
    ")"
   ]
  },
  {
   "cell_type": "code",
   "execution_count": 91,
   "id": "2ed0f663",
   "metadata": {},
   "outputs": [],
   "source": [
    "def filepath_to_embeddings(filename, label):\n",
    "    # Load 16k audio wave\n",
    "    audio_wav = load_wav_16k_mono(filename)\n",
    "\n",
    "    # Get audio embeddings & scores.\n",
    "    # The embeddings are the audio features extracted using transfer learning\n",
    "    # while scores will be used to identify time slots that are not speech\n",
    "    # which will then be gathered into a specific new category 'other'\n",
    "    embeddings = vgg_model(audio_wav)\n",
    "\n",
    "    # Number of embeddings in order to know how many times to repeat the label\n",
    "    embeddings_num = tf.shape(embeddings)[0]\n",
    "    labels = tf.repeat(label, embeddings_num)\n",
    "\n",
    "    # Using one-hot in order to use AUC\n",
    "    return (embeddings, tf.one_hot(labels, len(IDMT_chords)))\n",
    "\n",
    "\n",
    "def dataframe_to_dataset(dataframe, batch_size=64):\n",
    "    dataset = tf.data.Dataset.from_tensor_slices(\n",
    "        (dataframe[\"filenames\"], dataframe[\"labels\"])\n",
    "    )\n",
    "\n",
    "    dataset = dataset.map(\n",
    "        lambda x, y: filepath_to_embeddings(x, y),\n",
    "        num_parallel_calls=tf.data.experimental.AUTOTUNE,\n",
    "    ).unbatch()\n",
    "\n",
    "    return dataset.cache().batch(batch_size).prefetch(tf.data.AUTOTUNE)\n",
    "\n",
    "\n",
    "train_ds = dataframe_to_dataset(train_df)\n",
    "valid_ds = dataframe_to_dataset(val_df)"
   ]
  },
  {
   "cell_type": "code",
   "execution_count": 92,
   "id": "b27dc089",
   "metadata": {},
   "outputs": [
    {
     "name": "stdout",
     "output_type": "stream",
     "text": [
      "{0: 1.0, 1: inf}\n"
     ]
    },
    {
     "name": "stderr",
     "output_type": "stream",
     "text": [
      "C:\\Users\\shawa\\AppData\\Local\\Temp\\ipykernel_9808\\280806646.py:9: RuntimeWarning: divide by zero encountered in long_scalars\n",
      "  i: tf.math.reduce_sum(class_counts).numpy() / class_counts[i].numpy()\n"
     ]
    }
   ],
   "source": [
    "class_counts = tf.zeros(shape=(len(IDMT_chords),), dtype=tf.int32)\n",
    "\n",
    "for x, y in iter(train_ds):\n",
    "    class_counts = class_counts + tf.math.bincount(\n",
    "        tf.cast(tf.math.argmax(y, axis=1), tf.int32), minlength=len(IDMT_chords)\n",
    "    )\n",
    "\n",
    "    class_weight = {\n",
    "        i: tf.math.reduce_sum(class_counts).numpy() / class_counts[i].numpy()\n",
    "        for i in range(len(IDMT_chords))\n",
    "    }\n",
    "\n",
    "print(class_weight)\n",
    "\n",
    "# Class weight calculation for unbalanced data -> why are some data points infinite????"
   ]
  },
  {
   "cell_type": "code",
   "execution_count": null,
   "id": "2adf6b92",
   "metadata": {},
   "outputs": [],
   "source": []
  },
  {
   "cell_type": "code",
   "execution_count": null,
   "id": "79330a78",
   "metadata": {},
   "outputs": [],
   "source": []
  },
  {
   "cell_type": "code",
   "execution_count": null,
   "id": "b030f0b9",
   "metadata": {},
   "outputs": [],
   "source": []
  },
  {
   "cell_type": "code",
   "execution_count": null,
   "id": "9a07a94a",
   "metadata": {},
   "outputs": [],
   "source": []
  },
  {
   "cell_type": "code",
   "execution_count": null,
   "id": "e4ff3956",
   "metadata": {},
   "outputs": [],
   "source": []
  },
  {
   "cell_type": "code",
   "execution_count": null,
   "id": "77aba99a",
   "metadata": {},
   "outputs": [],
   "source": []
  },
  {
   "cell_type": "code",
   "execution_count": null,
   "id": "c84fa239",
   "metadata": {},
   "outputs": [],
   "source": []
  },
  {
   "cell_type": "code",
   "execution_count": null,
   "id": "70f90d2c",
   "metadata": {},
   "outputs": [],
   "source": []
  },
  {
   "cell_type": "code",
   "execution_count": null,
   "id": "e17c65eb",
   "metadata": {},
   "outputs": [],
   "source": []
  },
  {
   "cell_type": "code",
   "execution_count": null,
   "id": "c3010207",
   "metadata": {},
   "outputs": [],
   "source": []
  },
  {
   "cell_type": "code",
   "execution_count": null,
   "id": "c41bed92",
   "metadata": {},
   "outputs": [],
   "source": []
  },
  {
   "cell_type": "code",
   "execution_count": null,
   "id": "96a70449",
   "metadata": {},
   "outputs": [],
   "source": []
  },
  {
   "cell_type": "code",
   "execution_count": null,
   "id": "1282a732",
   "metadata": {},
   "outputs": [],
   "source": []
  },
  {
   "cell_type": "code",
   "execution_count": null,
   "id": "b5dd68e8",
   "metadata": {},
   "outputs": [],
   "source": []
  },
  {
   "cell_type": "code",
   "execution_count": null,
   "id": "3241ef7d",
   "metadata": {},
   "outputs": [],
   "source": []
  },
  {
   "cell_type": "code",
   "execution_count": null,
   "id": "859b4f9b",
   "metadata": {},
   "outputs": [],
   "source": []
  },
  {
   "cell_type": "code",
   "execution_count": null,
   "id": "2ecb0a81",
   "metadata": {},
   "outputs": [],
   "source": []
  },
  {
   "cell_type": "code",
   "execution_count": null,
   "id": "d4a20d0a",
   "metadata": {},
   "outputs": [],
   "source": []
  },
  {
   "cell_type": "code",
   "execution_count": null,
   "id": "20ee3416",
   "metadata": {},
   "outputs": [],
   "source": []
  },
  {
   "cell_type": "code",
   "execution_count": null,
   "id": "7516aa8b",
   "metadata": {},
   "outputs": [],
   "source": []
  },
  {
   "cell_type": "code",
   "execution_count": null,
   "id": "c39a3c62",
   "metadata": {},
   "outputs": [],
   "source": []
  },
  {
   "cell_type": "code",
   "execution_count": null,
   "id": "d07fbf85",
   "metadata": {},
   "outputs": [],
   "source": []
  },
  {
   "cell_type": "code",
   "execution_count": null,
   "id": "e9de86ac",
   "metadata": {},
   "outputs": [],
   "source": []
  },
  {
   "cell_type": "code",
   "execution_count": null,
   "id": "a55a8400",
   "metadata": {},
   "outputs": [],
   "source": []
  },
  {
   "cell_type": "code",
   "execution_count": null,
   "id": "79abfb8b",
   "metadata": {},
   "outputs": [],
   "source": []
  },
  {
   "cell_type": "code",
   "execution_count": 7,
   "id": "f3464fac",
   "metadata": {},
   "outputs": [],
   "source": [
    "_ = tf.keras.utils.get_file('esc-50.zip',\n",
    "                        'https://github.com/karoldvl/ESC-50/archive/master.zip',\n",
    "                        cache_dir='./',\n",
    "                        cache_subdir='datasets',\n",
    "                        extract=True)"
   ]
  },
  {
   "cell_type": "code",
   "execution_count": 8,
   "id": "65558fba",
   "metadata": {
    "scrolled": true
   },
   "outputs": [
    {
     "data": {
      "text/html": [
       "<div>\n",
       "<style scoped>\n",
       "    .dataframe tbody tr th:only-of-type {\n",
       "        vertical-align: middle;\n",
       "    }\n",
       "\n",
       "    .dataframe tbody tr th {\n",
       "        vertical-align: top;\n",
       "    }\n",
       "\n",
       "    .dataframe thead th {\n",
       "        text-align: right;\n",
       "    }\n",
       "</style>\n",
       "<table border=\"1\" class=\"dataframe\">\n",
       "  <thead>\n",
       "    <tr style=\"text-align: right;\">\n",
       "      <th></th>\n",
       "      <th>filename</th>\n",
       "      <th>fold</th>\n",
       "      <th>target</th>\n",
       "      <th>category</th>\n",
       "      <th>esc10</th>\n",
       "      <th>src_file</th>\n",
       "      <th>take</th>\n",
       "    </tr>\n",
       "  </thead>\n",
       "  <tbody>\n",
       "    <tr>\n",
       "      <th>0</th>\n",
       "      <td>1-100032-A-0.wav</td>\n",
       "      <td>1</td>\n",
       "      <td>0</td>\n",
       "      <td>dog</td>\n",
       "      <td>True</td>\n",
       "      <td>100032</td>\n",
       "      <td>A</td>\n",
       "    </tr>\n",
       "    <tr>\n",
       "      <th>1</th>\n",
       "      <td>1-100038-A-14.wav</td>\n",
       "      <td>1</td>\n",
       "      <td>14</td>\n",
       "      <td>chirping_birds</td>\n",
       "      <td>False</td>\n",
       "      <td>100038</td>\n",
       "      <td>A</td>\n",
       "    </tr>\n",
       "    <tr>\n",
       "      <th>2</th>\n",
       "      <td>1-100210-A-36.wav</td>\n",
       "      <td>1</td>\n",
       "      <td>36</td>\n",
       "      <td>vacuum_cleaner</td>\n",
       "      <td>False</td>\n",
       "      <td>100210</td>\n",
       "      <td>A</td>\n",
       "    </tr>\n",
       "    <tr>\n",
       "      <th>3</th>\n",
       "      <td>1-100210-B-36.wav</td>\n",
       "      <td>1</td>\n",
       "      <td>36</td>\n",
       "      <td>vacuum_cleaner</td>\n",
       "      <td>False</td>\n",
       "      <td>100210</td>\n",
       "      <td>B</td>\n",
       "    </tr>\n",
       "    <tr>\n",
       "      <th>4</th>\n",
       "      <td>1-101296-A-19.wav</td>\n",
       "      <td>1</td>\n",
       "      <td>19</td>\n",
       "      <td>thunderstorm</td>\n",
       "      <td>False</td>\n",
       "      <td>101296</td>\n",
       "      <td>A</td>\n",
       "    </tr>\n",
       "  </tbody>\n",
       "</table>\n",
       "</div>"
      ],
      "text/plain": [
       "            filename  fold  target        category  esc10  src_file take\n",
       "0   1-100032-A-0.wav     1       0             dog   True    100032    A\n",
       "1  1-100038-A-14.wav     1      14  chirping_birds  False    100038    A\n",
       "2  1-100210-A-36.wav     1      36  vacuum_cleaner  False    100210    A\n",
       "3  1-100210-B-36.wav     1      36  vacuum_cleaner  False    100210    B\n",
       "4  1-101296-A-19.wav     1      19    thunderstorm  False    101296    A"
      ]
     },
     "execution_count": 8,
     "metadata": {},
     "output_type": "execute_result"
    }
   ],
   "source": [
    "esc50_csv = './datasets/ESC-50-master/meta/esc50.csv'\n",
    "base_data_path = './datasets/ESC-50-master/audio/'\n",
    "\n",
    "pd_data = pd.read_csv(esc50_csv)\n",
    "pd_data.head()"
   ]
  },
  {
   "cell_type": "code",
   "execution_count": 9,
   "id": "09143996",
   "metadata": {},
   "outputs": [
    {
     "data": {
      "text/html": [
       "<div>\n",
       "<style scoped>\n",
       "    .dataframe tbody tr th:only-of-type {\n",
       "        vertical-align: middle;\n",
       "    }\n",
       "\n",
       "    .dataframe tbody tr th {\n",
       "        vertical-align: top;\n",
       "    }\n",
       "\n",
       "    .dataframe thead th {\n",
       "        text-align: right;\n",
       "    }\n",
       "</style>\n",
       "<table border=\"1\" class=\"dataframe\">\n",
       "  <thead>\n",
       "    <tr style=\"text-align: right;\">\n",
       "      <th></th>\n",
       "      <th>filename</th>\n",
       "      <th>fold</th>\n",
       "      <th>target</th>\n",
       "      <th>category</th>\n",
       "      <th>esc10</th>\n",
       "      <th>src_file</th>\n",
       "      <th>take</th>\n",
       "    </tr>\n",
       "  </thead>\n",
       "  <tbody>\n",
       "    <tr>\n",
       "      <th>0</th>\n",
       "      <td>./datasets/ESC-50-master/audio/1-100032-A-0.wav</td>\n",
       "      <td>1</td>\n",
       "      <td>0</td>\n",
       "      <td>dog</td>\n",
       "      <td>True</td>\n",
       "      <td>100032</td>\n",
       "      <td>A</td>\n",
       "    </tr>\n",
       "    <tr>\n",
       "      <th>14</th>\n",
       "      <td>./datasets/ESC-50-master/audio/1-110389-A-0.wav</td>\n",
       "      <td>1</td>\n",
       "      <td>0</td>\n",
       "      <td>dog</td>\n",
       "      <td>True</td>\n",
       "      <td>110389</td>\n",
       "      <td>A</td>\n",
       "    </tr>\n",
       "    <tr>\n",
       "      <th>157</th>\n",
       "      <td>./datasets/ESC-50-master/audio/1-30226-A-0.wav</td>\n",
       "      <td>1</td>\n",
       "      <td>0</td>\n",
       "      <td>dog</td>\n",
       "      <td>True</td>\n",
       "      <td>30226</td>\n",
       "      <td>A</td>\n",
       "    </tr>\n",
       "    <tr>\n",
       "      <th>158</th>\n",
       "      <td>./datasets/ESC-50-master/audio/1-30344-A-0.wav</td>\n",
       "      <td>1</td>\n",
       "      <td>0</td>\n",
       "      <td>dog</td>\n",
       "      <td>True</td>\n",
       "      <td>30344</td>\n",
       "      <td>A</td>\n",
       "    </tr>\n",
       "    <tr>\n",
       "      <th>170</th>\n",
       "      <td>./datasets/ESC-50-master/audio/1-32318-A-0.wav</td>\n",
       "      <td>1</td>\n",
       "      <td>0</td>\n",
       "      <td>dog</td>\n",
       "      <td>True</td>\n",
       "      <td>32318</td>\n",
       "      <td>A</td>\n",
       "    </tr>\n",
       "    <tr>\n",
       "      <th>175</th>\n",
       "      <td>./datasets/ESC-50-master/audio/1-34094-A-5.wav</td>\n",
       "      <td>1</td>\n",
       "      <td>1</td>\n",
       "      <td>cat</td>\n",
       "      <td>False</td>\n",
       "      <td>34094</td>\n",
       "      <td>A</td>\n",
       "    </tr>\n",
       "    <tr>\n",
       "      <th>176</th>\n",
       "      <td>./datasets/ESC-50-master/audio/1-34094-B-5.wav</td>\n",
       "      <td>1</td>\n",
       "      <td>1</td>\n",
       "      <td>cat</td>\n",
       "      <td>False</td>\n",
       "      <td>34094</td>\n",
       "      <td>B</td>\n",
       "    </tr>\n",
       "    <tr>\n",
       "      <th>229</th>\n",
       "      <td>./datasets/ESC-50-master/audio/1-47819-A-5.wav</td>\n",
       "      <td>1</td>\n",
       "      <td>1</td>\n",
       "      <td>cat</td>\n",
       "      <td>False</td>\n",
       "      <td>47819</td>\n",
       "      <td>A</td>\n",
       "    </tr>\n",
       "    <tr>\n",
       "      <th>230</th>\n",
       "      <td>./datasets/ESC-50-master/audio/1-47819-B-5.wav</td>\n",
       "      <td>1</td>\n",
       "      <td>1</td>\n",
       "      <td>cat</td>\n",
       "      <td>False</td>\n",
       "      <td>47819</td>\n",
       "      <td>B</td>\n",
       "    </tr>\n",
       "    <tr>\n",
       "      <th>231</th>\n",
       "      <td>./datasets/ESC-50-master/audio/1-47819-C-5.wav</td>\n",
       "      <td>1</td>\n",
       "      <td>1</td>\n",
       "      <td>cat</td>\n",
       "      <td>False</td>\n",
       "      <td>47819</td>\n",
       "      <td>C</td>\n",
       "    </tr>\n",
       "  </tbody>\n",
       "</table>\n",
       "</div>"
      ],
      "text/plain": [
       "                                            filename  fold  target category  \\\n",
       "0    ./datasets/ESC-50-master/audio/1-100032-A-0.wav     1       0      dog   \n",
       "14   ./datasets/ESC-50-master/audio/1-110389-A-0.wav     1       0      dog   \n",
       "157   ./datasets/ESC-50-master/audio/1-30226-A-0.wav     1       0      dog   \n",
       "158   ./datasets/ESC-50-master/audio/1-30344-A-0.wav     1       0      dog   \n",
       "170   ./datasets/ESC-50-master/audio/1-32318-A-0.wav     1       0      dog   \n",
       "175   ./datasets/ESC-50-master/audio/1-34094-A-5.wav     1       1      cat   \n",
       "176   ./datasets/ESC-50-master/audio/1-34094-B-5.wav     1       1      cat   \n",
       "229   ./datasets/ESC-50-master/audio/1-47819-A-5.wav     1       1      cat   \n",
       "230   ./datasets/ESC-50-master/audio/1-47819-B-5.wav     1       1      cat   \n",
       "231   ./datasets/ESC-50-master/audio/1-47819-C-5.wav     1       1      cat   \n",
       "\n",
       "     esc10  src_file take  \n",
       "0     True    100032    A  \n",
       "14    True    110389    A  \n",
       "157   True     30226    A  \n",
       "158   True     30344    A  \n",
       "170   True     32318    A  \n",
       "175  False     34094    A  \n",
       "176  False     34094    B  \n",
       "229  False     47819    A  \n",
       "230  False     47819    B  \n",
       "231  False     47819    C  "
      ]
     },
     "execution_count": 9,
     "metadata": {},
     "output_type": "execute_result"
    }
   ],
   "source": [
    "my_classes = ['dog', 'cat']\n",
    "map_class_to_id = {'dog':0, 'cat':1}\n",
    "\n",
    "filtered_pd = pd_data[pd_data.category.isin(my_classes)]\n",
    "\n",
    "class_id = filtered_pd['category'].apply(lambda name: map_class_to_id[name])\n",
    "filtered_pd = filtered_pd.assign(target=class_id)\n",
    "\n",
    "full_path = filtered_pd['filename'].apply(lambda row: os.path.join(base_data_path, row))\n",
    "filtered_pd = filtered_pd.assign(filename=full_path)\n",
    "\n",
    "filtered_pd.head(10)"
   ]
  },
  {
   "cell_type": "code",
   "execution_count": 10,
   "id": "e3879554",
   "metadata": {},
   "outputs": [
    {
     "data": {
      "text/plain": [
       "(TensorSpec(shape=(), dtype=tf.string, name=None),\n",
       " TensorSpec(shape=(), dtype=tf.int64, name=None),\n",
       " TensorSpec(shape=(), dtype=tf.int64, name=None))"
      ]
     },
     "execution_count": 10,
     "metadata": {},
     "output_type": "execute_result"
    }
   ],
   "source": [
    "filenames = filtered_pd['filename']\n",
    "targets = filtered_pd['target']\n",
    "folds = filtered_pd['fold']\n",
    "\n",
    "main_ds = tf.data.Dataset.from_tensor_slices((filenames, targets, folds))\n",
    "main_ds.element_spec"
   ]
  },
  {
   "cell_type": "code",
   "execution_count": 12,
   "id": "86d27396",
   "metadata": {},
   "outputs": [],
   "source": [
    "@tf.function\n",
    "def load_wav_16k_mono(filename):\n",
    "    \"\"\" Load a WAV file, convert it to a float tensor, resample to 16 kHz single-channel audio. \"\"\"\n",
    "    file_contents = tf.io.read_file(filename)\n",
    "    wav, sample_rate = tf.audio.decode_wav(\n",
    "          file_contents,\n",
    "          desired_channels=1)\n",
    "    wav = tf.squeeze(wav, axis=-1)\n",
    "    sample_rate = tf.cast(sample_rate, dtype=tf.int64)\n",
    "    wav = tfio.audio.resample(wav, rate_in=sample_rate, rate_out=16000)\n",
    "    return wav"
   ]
  },
  {
   "cell_type": "code",
   "execution_count": 13,
   "id": "622885cd",
   "metadata": {},
   "outputs": [
    {
     "name": "stdout",
     "output_type": "stream",
     "text": [
      "WARNING:tensorflow:From T:\\Anaconda\\lib\\site-packages\\tensorflow\\python\\autograph\\pyct\\static_analysis\\liveness.py:83: Analyzer.lamba_check (from tensorflow.python.autograph.pyct.static_analysis.liveness) is deprecated and will be removed after 2023-09-23.\n",
      "Instructions for updating:\n",
      "Lambda fuctions will be no more assumed to be used in the statement where they are used, or at least in the same block. https://github.com/tensorflow/tensorflow/issues/56089\n"
     ]
    },
    {
     "name": "stderr",
     "output_type": "stream",
     "text": [
      "WARNING:tensorflow:From T:\\Anaconda\\lib\\site-packages\\tensorflow\\python\\autograph\\pyct\\static_analysis\\liveness.py:83: Analyzer.lamba_check (from tensorflow.python.autograph.pyct.static_analysis.liveness) is deprecated and will be removed after 2023-09-23.\n",
      "Instructions for updating:\n",
      "Lambda fuctions will be no more assumed to be used in the statement where they are used, or at least in the same block. https://github.com/tensorflow/tensorflow/issues/56089\n"
     ]
    },
    {
     "name": "stdout",
     "output_type": "stream",
     "text": [
      "WARNING:tensorflow:Using a while_loop for converting IO>AudioResample cause there is no registered converter for this op.\n"
     ]
    },
    {
     "name": "stderr",
     "output_type": "stream",
     "text": [
      "WARNING:tensorflow:Using a while_loop for converting IO>AudioResample cause there is no registered converter for this op.\n"
     ]
    },
    {
     "data": {
      "text/plain": [
       "(TensorSpec(shape=<unknown>, dtype=tf.float32, name=None),\n",
       " TensorSpec(shape=(), dtype=tf.int64, name=None),\n",
       " TensorSpec(shape=(), dtype=tf.int64, name=None))"
      ]
     },
     "execution_count": 13,
     "metadata": {},
     "output_type": "execute_result"
    }
   ],
   "source": [
    "def load_wav_for_map(filename, label, fold):\n",
    "  return load_wav_16k_mono(filename), label, fold\n",
    "\n",
    "main_ds = main_ds.map(load_wav_for_map)\n",
    "main_ds.element_spec"
   ]
  },
  {
   "cell_type": "code",
   "execution_count": 15,
   "id": "fa797e03",
   "metadata": {},
   "outputs": [
    {
     "data": {
      "text/plain": [
       "(TensorSpec(shape=(128,), dtype=tf.float32, name=None),\n",
       " TensorSpec(shape=(), dtype=tf.int64, name=None),\n",
       " TensorSpec(shape=(), dtype=tf.int64, name=None))"
      ]
     },
     "execution_count": 15,
     "metadata": {},
     "output_type": "execute_result"
    }
   ],
   "source": [
    "# applies the embedding extraction model to a wav data\n",
    "def extract_embedding(wav_data, label, fold):\n",
    "  ''' run YAMNet to extract embedding from the wav data '''\n",
    "  embeddings = vgg_model(wav_data)\n",
    "  num_embeddings = tf.shape(embeddings)[0]\n",
    "  return (embeddings,\n",
    "            tf.repeat(label, num_embeddings),\n",
    "            tf.repeat(fold, num_embeddings))\n",
    "\n",
    "# extract embedding\n",
    "main_ds = main_ds.map(extract_embedding).unbatch()\n",
    "main_ds.element_spec"
   ]
  },
  {
   "cell_type": "code",
   "execution_count": 16,
   "id": "10bb288b",
   "metadata": {},
   "outputs": [],
   "source": [
    "cached_ds = main_ds.cache()\n",
    "train_ds = cached_ds.filter(lambda embedding, label, fold: fold < 4)\n",
    "val_ds = cached_ds.filter(lambda embedding, label, fold: fold == 4)\n",
    "test_ds = cached_ds.filter(lambda embedding, label, fold: fold == 5)\n",
    "\n",
    "# remove the folds column now that it's not needed anymore\n",
    "remove_fold_column = lambda embedding, label, fold: (embedding, label)\n",
    "\n",
    "train_ds = train_ds.map(remove_fold_column)\n",
    "val_ds = val_ds.map(remove_fold_column)\n",
    "test_ds = test_ds.map(remove_fold_column)\n",
    "\n",
    "train_ds = train_ds.cache().shuffle(1000).batch(32).prefetch(tf.data.AUTOTUNE)\n",
    "val_ds = val_ds.cache().batch(32).prefetch(tf.data.AUTOTUNE)\n",
    "test_ds = test_ds.cache().batch(32).prefetch(tf.data.AUTOTUNE)"
   ]
  },
  {
   "cell_type": "code",
   "execution_count": 48,
   "id": "30559fd8",
   "metadata": {},
   "outputs": [
    {
     "name": "stdout",
     "output_type": "stream",
     "text": [
      "Requirement already satisfied: keras_tuner in t:\\anaconda\\lib\\site-packages (1.3.0)\n",
      "Requirement already satisfied: tensorflow>=2.0 in t:\\anaconda\\lib\\site-packages (from keras_tuner) (2.11.0)\n",
      "Requirement already satisfied: requests in t:\\anaconda\\lib\\site-packages (from keras_tuner) (2.28.1)\n",
      "Requirement already satisfied: packaging in t:\\anaconda\\lib\\site-packages (from keras_tuner) (21.3)\n",
      "Requirement already satisfied: kt-legacy in t:\\anaconda\\lib\\site-packages (from keras_tuner) (1.0.4)\n",
      "Requirement already satisfied: ipython in t:\\anaconda\\lib\\site-packages (from keras_tuner) (7.31.1)\n",
      "Requirement already satisfied: tensorflow-intel==2.11.0 in t:\\anaconda\\lib\\site-packages (from tensorflow>=2.0->keras_tuner) (2.11.0)\n",
      "Requirement already satisfied: setuptools in t:\\anaconda\\lib\\site-packages (from tensorflow-intel==2.11.0->tensorflow>=2.0->keras_tuner) (63.4.1)\n",
      "Requirement already satisfied: astunparse>=1.6.0 in t:\\anaconda\\lib\\site-packages (from tensorflow-intel==2.11.0->tensorflow>=2.0->keras_tuner) (1.6.3)\n",
      "Requirement already satisfied: libclang>=13.0.0 in t:\\anaconda\\lib\\site-packages (from tensorflow-intel==2.11.0->tensorflow>=2.0->keras_tuner) (15.0.6.1)\n",
      "Requirement already satisfied: keras<2.12,>=2.11.0 in t:\\anaconda\\lib\\site-packages (from tensorflow-intel==2.11.0->tensorflow>=2.0->keras_tuner) (2.11.0)\n",
      "Requirement already satisfied: typing-extensions>=3.6.6 in t:\\anaconda\\lib\\site-packages (from tensorflow-intel==2.11.0->tensorflow>=2.0->keras_tuner) (4.3.0)\n",
      "Requirement already satisfied: google-pasta>=0.1.1 in t:\\anaconda\\lib\\site-packages (from tensorflow-intel==2.11.0->tensorflow>=2.0->keras_tuner) (0.2.0)\n",
      "Requirement already satisfied: grpcio<2.0,>=1.24.3 in t:\\anaconda\\lib\\site-packages (from tensorflow-intel==2.11.0->tensorflow>=2.0->keras_tuner) (1.51.3)\n",
      "Requirement already satisfied: opt-einsum>=2.3.2 in t:\\anaconda\\lib\\site-packages (from tensorflow-intel==2.11.0->tensorflow>=2.0->keras_tuner) (3.3.0)\n",
      "Requirement already satisfied: absl-py>=1.0.0 in t:\\anaconda\\lib\\site-packages (from tensorflow-intel==2.11.0->tensorflow>=2.0->keras_tuner) (1.4.0)\n",
      "Requirement already satisfied: six>=1.12.0 in t:\\anaconda\\lib\\site-packages (from tensorflow-intel==2.11.0->tensorflow>=2.0->keras_tuner) (1.16.0)\n",
      "Requirement already satisfied: h5py>=2.9.0 in t:\\anaconda\\lib\\site-packages (from tensorflow-intel==2.11.0->tensorflow>=2.0->keras_tuner) (3.7.0)\n",
      "Requirement already satisfied: gast<=0.4.0,>=0.2.1 in t:\\anaconda\\lib\\site-packages (from tensorflow-intel==2.11.0->tensorflow>=2.0->keras_tuner) (0.4.0)\n",
      "Requirement already satisfied: tensorboard<2.12,>=2.11 in t:\\anaconda\\lib\\site-packages (from tensorflow-intel==2.11.0->tensorflow>=2.0->keras_tuner) (2.11.2)\n",
      "Requirement already satisfied: tensorflow-io-gcs-filesystem>=0.23.1 in t:\\anaconda\\lib\\site-packages (from tensorflow-intel==2.11.0->tensorflow>=2.0->keras_tuner) (0.28.0)\n",
      "Requirement already satisfied: tensorflow-estimator<2.12,>=2.11.0 in t:\\anaconda\\lib\\site-packages (from tensorflow-intel==2.11.0->tensorflow>=2.0->keras_tuner) (2.11.0)\n",
      "Requirement already satisfied: flatbuffers>=2.0 in t:\\anaconda\\lib\\site-packages (from tensorflow-intel==2.11.0->tensorflow>=2.0->keras_tuner) (23.3.3)\n",
      "Requirement already satisfied: wrapt>=1.11.0 in t:\\anaconda\\lib\\site-packages (from tensorflow-intel==2.11.0->tensorflow>=2.0->keras_tuner) (1.14.1)\n",
      "Requirement already satisfied: protobuf<3.20,>=3.9.2 in t:\\anaconda\\lib\\site-packages (from tensorflow-intel==2.11.0->tensorflow>=2.0->keras_tuner) (3.19.6)\n",
      "Requirement already satisfied: numpy>=1.20 in t:\\anaconda\\lib\\site-packages (from tensorflow-intel==2.11.0->tensorflow>=2.0->keras_tuner) (1.21.5)\n",
      "Requirement already satisfied: termcolor>=1.1.0 in t:\\anaconda\\lib\\site-packages (from tensorflow-intel==2.11.0->tensorflow>=2.0->keras_tuner) (2.2.0)\n",
      "Requirement already satisfied: pickleshare in t:\\anaconda\\lib\\site-packages (from ipython->keras_tuner) (0.7.5)\n",
      "Requirement already satisfied: decorator in t:\\anaconda\\lib\\site-packages (from ipython->keras_tuner) (5.1.1)\n",
      "Requirement already satisfied: backcall in t:\\anaconda\\lib\\site-packages (from ipython->keras_tuner) (0.2.0)\n",
      "Requirement already satisfied: matplotlib-inline in t:\\anaconda\\lib\\site-packages (from ipython->keras_tuner) (0.1.6)\n",
      "Requirement already satisfied: traitlets>=4.2 in t:\\anaconda\\lib\\site-packages (from ipython->keras_tuner) (5.1.1)\n",
      "Requirement already satisfied: pygments in t:\\anaconda\\lib\\site-packages (from ipython->keras_tuner) (2.11.2)\n",
      "Requirement already satisfied: colorama in t:\\anaconda\\lib\\site-packages (from ipython->keras_tuner) (0.4.5)\n",
      "Requirement already satisfied: jedi>=0.16 in t:\\anaconda\\lib\\site-packages (from ipython->keras_tuner) (0.18.1)\n",
      "Requirement already satisfied: prompt-toolkit!=3.0.0,!=3.0.1,<3.1.0,>=2.0.0 in t:\\anaconda\\lib\\site-packages (from ipython->keras_tuner) (3.0.20)\n",
      "Requirement already satisfied: pyparsing!=3.0.5,>=2.0.2 in t:\\anaconda\\lib\\site-packages (from packaging->keras_tuner) (3.0.9)\n",
      "Requirement already satisfied: idna<4,>=2.5 in t:\\anaconda\\lib\\site-packages (from requests->keras_tuner) (3.3)\n",
      "Requirement already satisfied: urllib3<1.27,>=1.21.1 in t:\\anaconda\\lib\\site-packages (from requests->keras_tuner) (1.26.11)\n",
      "Requirement already satisfied: certifi>=2017.4.17 in t:\\anaconda\\lib\\site-packages (from requests->keras_tuner) (2022.9.14)\n",
      "Requirement already satisfied: charset-normalizer<3,>=2 in t:\\anaconda\\lib\\site-packages (from requests->keras_tuner) (2.0.4)\n",
      "Requirement already satisfied: parso<0.9.0,>=0.8.0 in t:\\anaconda\\lib\\site-packages (from jedi>=0.16->ipython->keras_tuner) (0.8.3)\n",
      "Requirement already satisfied: wcwidth in t:\\anaconda\\lib\\site-packages (from prompt-toolkit!=3.0.0,!=3.0.1,<3.1.0,>=2.0.0->ipython->keras_tuner) (0.2.5)\n",
      "Requirement already satisfied: wheel<1.0,>=0.23.0 in t:\\anaconda\\lib\\site-packages (from astunparse>=1.6.0->tensorflow-intel==2.11.0->tensorflow>=2.0->keras_tuner) (0.37.1)\n",
      "Requirement already satisfied: google-auth-oauthlib<0.5,>=0.4.1 in t:\\anaconda\\lib\\site-packages (from tensorboard<2.12,>=2.11->tensorflow-intel==2.11.0->tensorflow>=2.0->keras_tuner) (0.4.6)\n",
      "Requirement already satisfied: tensorboard-plugin-wit>=1.6.0 in t:\\anaconda\\lib\\site-packages (from tensorboard<2.12,>=2.11->tensorflow-intel==2.11.0->tensorflow>=2.0->keras_tuner) (1.8.1)\n",
      "Requirement already satisfied: werkzeug>=1.0.1 in t:\\anaconda\\lib\\site-packages (from tensorboard<2.12,>=2.11->tensorflow-intel==2.11.0->tensorflow>=2.0->keras_tuner) (2.0.3)\n",
      "Requirement already satisfied: markdown>=2.6.8 in t:\\anaconda\\lib\\site-packages (from tensorboard<2.12,>=2.11->tensorflow-intel==2.11.0->tensorflow>=2.0->keras_tuner) (3.3.4)\n",
      "Requirement already satisfied: google-auth<3,>=1.6.3 in t:\\anaconda\\lib\\site-packages (from tensorboard<2.12,>=2.11->tensorflow-intel==2.11.0->tensorflow>=2.0->keras_tuner) (2.16.2)\n",
      "Requirement already satisfied: tensorboard-data-server<0.7.0,>=0.6.0 in t:\\anaconda\\lib\\site-packages (from tensorboard<2.12,>=2.11->tensorflow-intel==2.11.0->tensorflow>=2.0->keras_tuner) (0.6.1)\n",
      "Requirement already satisfied: rsa<5,>=3.1.4 in t:\\anaconda\\lib\\site-packages (from google-auth<3,>=1.6.3->tensorboard<2.12,>=2.11->tensorflow-intel==2.11.0->tensorflow>=2.0->keras_tuner) (4.9)\n",
      "Requirement already satisfied: cachetools<6.0,>=2.0.0 in t:\\anaconda\\lib\\site-packages (from google-auth<3,>=1.6.3->tensorboard<2.12,>=2.11->tensorflow-intel==2.11.0->tensorflow>=2.0->keras_tuner) (5.3.0)\n",
      "Requirement already satisfied: pyasn1-modules>=0.2.1 in t:\\anaconda\\lib\\site-packages (from google-auth<3,>=1.6.3->tensorboard<2.12,>=2.11->tensorflow-intel==2.11.0->tensorflow>=2.0->keras_tuner) (0.2.8)\n",
      "Requirement already satisfied: requests-oauthlib>=0.7.0 in t:\\anaconda\\lib\\site-packages (from google-auth-oauthlib<0.5,>=0.4.1->tensorboard<2.12,>=2.11->tensorflow-intel==2.11.0->tensorflow>=2.0->keras_tuner) (1.3.1)\n",
      "Requirement already satisfied: pyasn1<0.5.0,>=0.4.6 in t:\\anaconda\\lib\\site-packages (from pyasn1-modules>=0.2.1->google-auth<3,>=1.6.3->tensorboard<2.12,>=2.11->tensorflow-intel==2.11.0->tensorflow>=2.0->keras_tuner) (0.4.8)\n",
      "Requirement already satisfied: oauthlib>=3.0.0 in t:\\anaconda\\lib\\site-packages (from requests-oauthlib>=0.7.0->google-auth-oauthlib<0.5,>=0.4.1->tensorboard<2.12,>=2.11->tensorflow-intel==2.11.0->tensorflow>=2.0->keras_tuner) (3.2.2)\n"
     ]
    }
   ],
   "source": [
    "!pip install keras_tuner"
   ]
  },
  {
   "cell_type": "code",
   "execution_count": 153,
   "id": "cf6ef069",
   "metadata": {},
   "outputs": [],
   "source": [
    "import keras_tuner\n",
    "\n",
    "def model_builder(hp):\n",
    "  model = tf.keras.Sequential()\n",
    "  model.add(tf.keras.layers.Input(shape=(128), dtype=tf.float32))\n",
    "\n",
    "  # Tune the number of units in the first Dense layer\n",
    "  # Choose an optimal value between 32-512\n",
    "  hp_units = hp.Int('units', min_value=32, max_value=512, step=32)\n",
    "  model.add(tf.keras.layers.Dense(units=hp_units, activation='relu'))\n",
    "  model.add(tf.keras.layers.Dense(len(IDMT_chords)))\n",
    "\n",
    "  # Tune the learning rate for the optimizer\n",
    "  # Choose an optimal value from 0.01, 0.001, or 0.0001\n",
    "  hp_learning_rate = hp.Choice('learning_rate', values=[1e-2, 1e-3, 1e-4])\n",
    "\n",
    "  model.compile(optimizer=tf.keras.optimizers.Adam(learning_rate=hp_learning_rate),\n",
    "                loss=tf.keras.losses.CategoricalCrossentropy(from_logits=True),\n",
    "                metrics=['accuracy'])\n",
    "\n",
    "  return model"
   ]
  },
  {
   "cell_type": "code",
   "execution_count": 154,
   "id": "2b9ca31c",
   "metadata": {},
   "outputs": [],
   "source": [
    "tuner = keras_tuner.Hyperband(model_builder,\n",
    "                             objective='val_accuracy',\n",
    "                             max_epochs=10,\n",
    "                             factor=3,\n",
    "                             project_name='tuning_attempt')"
   ]
  },
  {
   "cell_type": "code",
   "execution_count": 155,
   "id": "364c6d7d",
   "metadata": {},
   "outputs": [],
   "source": [
    "stop_early = tf.keras.callbacks.EarlyStopping(monitor='val_loss', patience=5)"
   ]
  },
  {
   "cell_type": "code",
   "execution_count": 156,
   "id": "77a1b8b5",
   "metadata": {},
   "outputs": [
    {
     "name": "stdout",
     "output_type": "stream",
     "text": [
      "Trial 30 Complete [00h 00m 01s]\n",
      "val_accuracy: 1.0\n",
      "\n",
      "Best val_accuracy So Far: 1.0\n",
      "Total elapsed time: 00h 00m 17s\n",
      "INFO:tensorflow:Oracle triggered exit\n"
     ]
    },
    {
     "name": "stderr",
     "output_type": "stream",
     "text": [
      "INFO:tensorflow:Oracle triggered exit\n"
     ]
    },
    {
     "name": "stdout",
     "output_type": "stream",
     "text": [
      "\n",
      "The hyperparameter search is complete. The optimal number of units in the first densely-connected\n",
      "layer is 128 and the optimal learning rate for the optimizer\n",
      "is 0.01.\n",
      "\n"
     ]
    }
   ],
   "source": [
    "tuner.search(train_ds, epochs=50, validation_data=valid_ds, callbacks=[stop_early])\n",
    "\n",
    "# Get the optimal hyperparameters\n",
    "best_hps=tuner.get_best_hyperparameters(num_trials=1)[0]\n",
    "\n",
    "print(f\"\"\"\n",
    "The hyperparameter search is complete. The optimal number of units in the first densely-connected\n",
    "layer is {best_hps.get('units')} and the optimal learning rate for the optimizer\n",
    "is {best_hps.get('learning_rate')}.\n",
    "\"\"\")\n"
   ]
  },
  {
   "cell_type": "code",
   "execution_count": 157,
   "id": "1dad8dde",
   "metadata": {},
   "outputs": [
    {
     "data": {
      "text/html": [
       "\n",
       "                <audio  controls=\"controls\" >\n",
       "                    <source src=\"data:audio/wav;base64,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\" type=\"audio/wav\" />\n",
       "                    Your browser does not support the audio element.\n",
       "                </audio>\n",
       "              "
      ],
      "text/plain": [
       "<IPython.lib.display.Audio object>"
      ]
     },
     "execution_count": 157,
     "metadata": {},
     "output_type": "execute_result"
    },
    {
     "data": {
      "image/png": "[encoded data removed]",
      "text/plain": [
       "<Figure size 640x480 with 1 Axes>"
      ]
     },
     "metadata": {},
     "output_type": "display_data"
    }
   ],
   "source": [
    "testing_wav_data = load_wav_16k_mono('T:\\IDMT-SMT-CHORDS\\IDMT-SMT-CHORDS\\Emaj.wav')\n",
    "\n",
    "_ = plt.plot(testing_wav_data)\n",
    "\n",
    "# Play the audio file.\n",
    "display.Audio(testing_wav_data, rate=16000)"
   ]
  },
  {
   "cell_type": "code",
   "execution_count": 159,
   "id": "e68a24ac",
   "metadata": {},
   "outputs": [
    {
     "name": "stdout",
     "output_type": "stream",
     "text": [
      "4\n"
     ]
    },
    {
     "ename": "IndexError",
     "evalue": "list index out of range",
     "output_type": "error",
     "traceback": [
      "\u001b[1;31m---------------------------------------------------------------------------\u001b[0m",
      "\u001b[1;31mIndexError\u001b[0m                                Traceback (most recent call last)",
      "\u001b[1;32m~\\AppData\\Local\\Temp\\ipykernel_9808\\4124698318.py\u001b[0m in \u001b[0;36m<module>\u001b[1;34m\u001b[0m\n\u001b[0;32m      2\u001b[0m \u001b[0mresult\u001b[0m \u001b[1;33m=\u001b[0m \u001b[0mmy_model\u001b[0m\u001b[1;33m(\u001b[0m\u001b[0membeddings\u001b[0m\u001b[1;33m)\u001b[0m\u001b[1;33m.\u001b[0m\u001b[0mnumpy\u001b[0m\u001b[1;33m(\u001b[0m\u001b[1;33m)\u001b[0m\u001b[1;33m\u001b[0m\u001b[1;33m\u001b[0m\u001b[0m\n\u001b[0;32m      3\u001b[0m \u001b[0mprint\u001b[0m\u001b[1;33m(\u001b[0m\u001b[0mresult\u001b[0m\u001b[1;33m.\u001b[0m\u001b[0mmean\u001b[0m\u001b[1;33m(\u001b[0m\u001b[0maxis\u001b[0m\u001b[1;33m=\u001b[0m\u001b[1;36m0\u001b[0m\u001b[1;33m)\u001b[0m\u001b[1;33m.\u001b[0m\u001b[0margmax\u001b[0m\u001b[1;33m(\u001b[0m\u001b[1;33m)\u001b[0m\u001b[1;33m)\u001b[0m\u001b[1;33m\u001b[0m\u001b[1;33m\u001b[0m\u001b[0m\n\u001b[1;32m----> 4\u001b[1;33m \u001b[0minferred_class\u001b[0m \u001b[1;33m=\u001b[0m \u001b[0mIDMT_chords\u001b[0m\u001b[1;33m[\u001b[0m\u001b[0mresult\u001b[0m\u001b[1;33m.\u001b[0m\u001b[0mmean\u001b[0m\u001b[1;33m(\u001b[0m\u001b[0maxis\u001b[0m\u001b[1;33m=\u001b[0m\u001b[1;36m0\u001b[0m\u001b[1;33m)\u001b[0m\u001b[1;33m.\u001b[0m\u001b[0margmax\u001b[0m\u001b[1;33m(\u001b[0m\u001b[1;33m)\u001b[0m\u001b[1;33m]\u001b[0m\u001b[1;33m\u001b[0m\u001b[1;33m\u001b[0m\u001b[0m\n\u001b[0m\u001b[0;32m      5\u001b[0m \u001b[0mprint\u001b[0m\u001b[1;33m(\u001b[0m\u001b[1;34mf'The main sound is: {inferred_class}'\u001b[0m\u001b[1;33m)\u001b[0m\u001b[1;33m\u001b[0m\u001b[1;33m\u001b[0m\u001b[0m\n",
      "\u001b[1;31mIndexError\u001b[0m: list index out of range"
     ]
    }
   ],
   "source": [
    "embeddings = vgg_model(testing_wav_data)\n",
    "result = my_model(embeddings).numpy()\n",
    "print(result.mean(axis=0).argmax())\n",
    "inferred_class = IDMT_chords[result.mean(axis=0).argmax()]\n",
    "print(f'The main sound is: {inferred_class}')"
   ]
  },
  {
   "cell_type": "code",
   "execution_count": null,
   "id": "f85f7cdb",
   "metadata": {},
   "outputs": [],
   "source": []
  },
  {
   "cell_type": "code",
   "execution_count": null,
   "id": "8b0b0465",
   "metadata": {},
   "outputs": [],
   "source": []
  }
 ],
 "metadata": {
  "kernelspec": {
   "display_name": "Final Year Project",
   "language": "python",
   "name": "tf-gpu"
  },
  "language_info": {
   "codemirror_mode": {
    "name": "ipython",
    "version": 3
   },
   "file_extension": ".py",
   "mimetype": "text/x-python",
   "name": "python",
   "nbconvert_exporter": "python",
   "pygments_lexer": "ipython3",
   "version": "3.9.13"
  }
 },
 "nbformat": 4,
 "nbformat_minor": 5
}
